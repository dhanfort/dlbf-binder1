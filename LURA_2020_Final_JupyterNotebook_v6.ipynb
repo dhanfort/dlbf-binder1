{
 "cells": [
  {
   "cell_type": "code",
   "execution_count": null,
   "metadata": {},
   "outputs": [],
   "source": [
    "#![LaSPACE_logo.jpg](attachment:LaSPACE_logo.jpg)"
   ]
  },
  {
   "cell_type": "markdown",
   "metadata": {},
   "source": [
    "This version of the Notebook (.v5) combines the datasets for the following instruments at the same observation time:\n",
    "- Solar Energetic Particle (SEP)\n",
    "- Solar Wind Ion Analyzer (SWIA)\n",
    "- Solar Wind Electron Analyzer (SWEA)\n",
    "- SupraThermal and Thermal Ion Composition (STATIC)\n",
    "- Langmuir Probe and Waves (LPW)\n",
    "- Neutral Gas and Ion Mass Spectrometer (NGIMS)"
   ]
  },
  {
   "cell_type": "markdown",
   "metadata": {},
   "source": [
    "\n",
    "\n",
    "# Making NASA’s Open-Innovation Data More Machine-Learning Friendly: A Case for the MAVEN Datasets\n",
    "\n",
    "## LURA Project 2020-2021\n",
    "\n",
    "\n",
    "LURA Project Title: \"Making NASA's Open-Innovation Data More Machine-Learning Friendly: A Case for the MAVEN Datasets\" <br> This research grant was awarded by the Louisiana Space Grant Consortium (LaSPACE). URL: https://laspace.lsu.edu/about-us/. <br> LaSPACE Grant Number: ##---TBA---##, Primary NASA Grant Number: 80NSSC20M0110.\n",
    "\n",
    "\n",
    "Project P.I.: Dr. Dhan Lord B. Fortela <br> Apprentice Student: Ashton C. Fremin <br> Department of Chemical Engineering, University of Louisiana at Lafayette, URL: https://chemical.louisiana.edu/\n",
    "\n",
    "\n",
    "Recent Notebook Revision: 23 June 2021\n"
   ]
  },
  {
   "cell_type": "markdown",
   "metadata": {},
   "source": [
    "## Notebook Overview:\n",
    "\n",
    "This Jupyter Notebook is running Python shows that step-by-step workflow from the download to the analysis of the MAVEN datasets.\n",
    "\n",
    "The PyDIVIDE package is used to download the MAVEN datasets and to perform som graphical analysis of the data. It was created by the MAVEN Team at the University of Colorado - Boulder: https://github.com/MAVENSDC/Pydivide. It is main used in this project to download and read the datasets.\n",
    "\n",
    "The Self-Organizing Map (SOM) package is available from this GitHub repository: https://github.com/sevamoo/SOMPY.git."
   ]
  },
  {
   "cell_type": "markdown",
   "metadata": {},
   "source": [
    "## Install the PyDIVIDE package:"
   ]
  },
  {
   "cell_type": "code",
   "execution_count": null,
   "metadata": {},
   "outputs": [],
   "source": [
    "pip install pydivide # no need to run if pydivide is already installed, just import (next line)"
   ]
  },
  {
   "cell_type": "markdown",
   "metadata": {},
   "source": [
    "## Import the Python Packages:"
   ]
  },
  {
   "cell_type": "code",
   "execution_count": null,
   "metadata": {},
   "outputs": [],
   "source": [
    "import pydivide \n",
    "import matplotlib.pylab as plt\n",
    "import matplotlib\n",
    "%matplotlib inline\n",
    "import pandas as pd\n",
    "import numpy as np\n",
    "from time import time\n",
    "import sompy\n",
    "import random\n",
    "from sklearn.externals import joblib\n",
    "import glob"
   ]
  },
  {
   "cell_type": "markdown",
   "metadata": {},
   "source": [
    "## Download MAVEM Data from NASA Datacenter:\n",
    "\n",
    "Download the target MAVEN dataset into the local directory. This may take minutes depending on the netwrok speed.\n",
    "\n",
    "After running the code line below, you do not have to run it again; unless you are downloading from another time period.\n",
    "\n",
    "\n",
    "The download function allows for the specification of destination folder using the 'local_dir=path' argument."
   ]
  },
  {
   "cell_type": "code",
   "execution_count": null,
   "metadata": {},
   "outputs": [],
   "source": [
    "pydivide.download_files(start_date='2018-05-15',\n",
    "                              end_date='2018-06-30',\n",
    "                              local_dir='/Users/dhan-lordfortela/Documents/EIL/Proposals/LURA 2020/LURA 2020 - Grant Awarded/LURA_2020 - Working/FINAL_works',\n",
    "                              insitu=True,\n",
    "                               iuvs=False)"
   ]
  },
  {
   "cell_type": "markdown",
   "metadata": {},
   "source": [
    "## Extract the raw data to working dataset\n"
   ]
  },
  {
   "cell_type": "markdown",
   "metadata": {},
   "source": [
    "Reading the downloaded datset. The 'pydivide.read' function reads the data from the local folder specified above."
   ]
  },
  {
   "cell_type": "code",
   "execution_count": null,
   "metadata": {},
   "outputs": [],
   "source": [
    "insitu= pydivide.read(['2018-05-15', '2018-06-30'],insitu_only=True)"
   ]
  },
  {
   "cell_type": "markdown",
   "metadata": {},
   "source": [
    "Check the Keys of the data array. These Keys pertain to the instruments and other aspects of the MAVEN spacecraft like the position (Orbit, SPACECRAFT) and time stamps."
   ]
  },
  {
   "cell_type": "code",
   "execution_count": null,
   "metadata": {
    "scrolled": true
   },
   "outputs": [],
   "source": [
    "insitu.keys()"
   ]
  },
  {
   "cell_type": "markdown",
   "metadata": {},
   "source": [
    "### We will focus on the SWEA subset of the data:"
   ]
  },
  {
   "cell_type": "code",
   "execution_count": null,
   "metadata": {
    "scrolled": false
   },
   "outputs": [],
   "source": [
    "insitu_LPW = insitu.get(\"LPW\")\n",
    "insitu_SWEA = insitu.get(\"SWEA\")\n",
    "insitu_SWIA = insitu.get(\"SWIA\")\n",
    "insitu_STATIC = insitu.get(\"STATIC\")\n",
    "insitu_SEP = insitu.get(\"SEP\")\n",
    "insitu_NGIMS = insitu.get(\"NGIMS\")"
   ]
  },
  {
   "cell_type": "code",
   "execution_count": null,
   "metadata": {},
   "outputs": [],
   "source": [
    "insitu_SWEA.head()"
   ]
  },
  {
   "cell_type": "code",
   "execution_count": null,
   "metadata": {
    "scrolled": true
   },
   "outputs": [],
   "source": [
    "insitu_SWEA.count()"
   ]
  },
  {
   "cell_type": "code",
   "execution_count": null,
   "metadata": {},
   "outputs": [],
   "source": [
    "# remove NaN or few-entry columns\n",
    "insitu_SWEA_bkp=insitu_SWEA # create back-up copy\n",
    "insitu_SWEA.drop(\"SOLAR_WIND_ELECTRON_DENSITY_QUAL\", axis=1, inplace=True)\n",
    "insitu_SWEA.drop(\"SOLAR_WIND_ELECTRON_TEMPERATURE_QUAL\", axis=1, inplace=True)\n",
    "insitu_SWEA.drop(\"Electron eflux  Parallel (5-100 ev) Quality\", axis=1, inplace=True)\n",
    "insitu_SWEA.drop(\"Electron eflux  Parallel (100-500 ev) Quality\", axis=1, inplace=True)\n",
    "insitu_SWEA.drop(\"Electron eflux  Parallel (500-1000 ev) Quality\", axis=1, inplace=True)\n",
    "insitu_SWEA.drop(\"Electron eflux  Anti-par (5-100 ev) Quality\", axis=1, inplace=True)\n",
    "insitu_SWEA.drop(\"Electron eflux  Anti-par (100-500 ev) Quality\", axis=1, inplace=True)\n",
    "insitu_SWEA.drop(\"Electron eflux  Anti-par (500-1000 ev) Quality\", axis=1, inplace=True)\n",
    "insitu_SWEA.drop(\"ELECTRON_SPECTRUM_SHAPE_PARAMETER_QUAL\", axis=1, inplace=True)"
   ]
  },
  {
   "cell_type": "markdown",
   "metadata": {},
   "source": [
    "Check the number of data to see which variables must be omitted. Also remove the 'Quality' variables."
   ]
  },
  {
   "cell_type": "code",
   "execution_count": null,
   "metadata": {
    "scrolled": true
   },
   "outputs": [],
   "source": [
    "insitu_LPW.count()"
   ]
  },
  {
   "cell_type": "code",
   "execution_count": null,
   "metadata": {},
   "outputs": [],
   "source": [
    "# remove NaN or few-entry columns\n",
    "insitu_LPW_bkp=insitu_LPW # create back-up copy\n",
    "insitu_LPW.drop(\"ELECTRON_SPECTRUM_SHAPE_PARAMETER_QUAL\", axis=1, inplace=True)"
   ]
  },
  {
   "cell_type": "code",
   "execution_count": null,
   "metadata": {
    "scrolled": true
   },
   "outputs": [],
   "source": [
    "insitu_SWEA.count()"
   ]
  },
  {
   "cell_type": "code",
   "execution_count": null,
   "metadata": {},
   "outputs": [],
   "source": [
    "insitu_SWIA.count()"
   ]
  },
  {
   "cell_type": "code",
   "execution_count": null,
   "metadata": {},
   "outputs": [],
   "source": [
    "insitu_STATIC.count()"
   ]
  },
  {
   "cell_type": "code",
   "execution_count": null,
   "metadata": {},
   "outputs": [],
   "source": [
    "insitu_SEP.count()"
   ]
  },
  {
   "cell_type": "code",
   "execution_count": null,
   "metadata": {},
   "outputs": [],
   "source": [
    "insitu_NGIMS.count()"
   ]
  },
  {
   "cell_type": "markdown",
   "metadata": {},
   "source": [
    "## Merging the datasets based on timestamp:"
   ]
  },
  {
   "cell_type": "markdown",
   "metadata": {},
   "source": [
    "- SEP + SWEA"
   ]
  },
  {
   "cell_type": "code",
   "execution_count": null,
   "metadata": {},
   "outputs": [],
   "source": [
    "print(insitu_SEP.count(axis=1))\n",
    "print(insitu_SWEA.count(axis=1))"
   ]
  },
  {
   "cell_type": "code",
   "execution_count": null,
   "metadata": {},
   "outputs": [],
   "source": [
    "SEP_SWEA = insitu_SEP.merge(insitu_SWEA, left_index=True, right_index=True)"
   ]
  },
  {
   "cell_type": "code",
   "execution_count": null,
   "metadata": {},
   "outputs": [],
   "source": [
    "print(SEP_SWEA.count(axis=1))"
   ]
  },
  {
   "cell_type": "code",
   "execution_count": null,
   "metadata": {},
   "outputs": [],
   "source": [
    "SEP_SWEA.head()"
   ]
  },
  {
   "cell_type": "code",
   "execution_count": null,
   "metadata": {},
   "outputs": [],
   "source": [
    "SEP_SWEA_SWIA = SEP_SWEA.merge(insitu_SWIA, left_index=True, right_index=True)"
   ]
  },
  {
   "cell_type": "code",
   "execution_count": null,
   "metadata": {
    "scrolled": true
   },
   "outputs": [],
   "source": [
    "print(SEP_SWEA_SWIA.count(axis=0))"
   ]
  },
  {
   "cell_type": "code",
   "execution_count": null,
   "metadata": {},
   "outputs": [],
   "source": [
    "SEP_SWEA_SWIA.head()"
   ]
  },
  {
   "cell_type": "code",
   "execution_count": null,
   "metadata": {},
   "outputs": [],
   "source": [
    "SEP_SWEA_SWIA_LPW = SEP_SWEA_SWIA.merge(insitu_LPW, left_index=True, right_index=True)"
   ]
  },
  {
   "cell_type": "code",
   "execution_count": null,
   "metadata": {},
   "outputs": [],
   "source": [
    "print(SEP_SWEA_SWIA_LPW.count(axis=0))"
   ]
  },
  {
   "cell_type": "code",
   "execution_count": null,
   "metadata": {},
   "outputs": [],
   "source": [
    "SEP_SWEA_SWIA_LPW.head()"
   ]
  },
  {
   "cell_type": "code",
   "execution_count": null,
   "metadata": {},
   "outputs": [],
   "source": [
    "SEP_SWEA_SWIA_LPW_NGIMS = SEP_SWEA_SWIA_LPW.merge(insitu_NGIMS, left_index=True, right_index=True)"
   ]
  },
  {
   "cell_type": "code",
   "execution_count": null,
   "metadata": {
    "scrolled": true
   },
   "outputs": [],
   "source": [
    "print(SEP_SWEA_SWIA_LPW_NGIMS.count(axis=1))"
   ]
  },
  {
   "cell_type": "code",
   "execution_count": null,
   "metadata": {},
   "outputs": [],
   "source": [
    "SEP_SWEA_SWIA_LPW_NGIMS_STATIC = SEP_SWEA_SWIA_LPW_NGIMS.merge(insitu_STATIC, left_index=True, right_index=True)"
   ]
  },
  {
   "cell_type": "code",
   "execution_count": null,
   "metadata": {
    "scrolled": true
   },
   "outputs": [],
   "source": [
    "print(SEP_SWEA_SWIA_LPW_NGIMS_STATIC.count(axis=0))"
   ]
  },
  {
   "cell_type": "code",
   "execution_count": null,
   "metadata": {
    "scrolled": true
   },
   "outputs": [],
   "source": [
    "index=SEP_SWEA_SWIA_LPW_NGIMS_STATIC.index\n",
    "print(index)"
   ]
  },
  {
   "cell_type": "code",
   "execution_count": null,
   "metadata": {},
   "outputs": [],
   "source": [
    "SEP_SWEA_SWIA_LPW_NGIMS_STATIC.to_excel('Data_SEP_SWEA_SWIA_LPW_NGIMS_STATIC.xlsx')"
   ]
  },
  {
   "cell_type": "markdown",
   "metadata": {},
   "source": [
    "Remove the last column as it has no data:"
   ]
  },
  {
   "cell_type": "code",
   "execution_count": null,
   "metadata": {
    "scrolled": false
   },
   "outputs": [],
   "source": [
    "insitu_SWEA= insitu_SWEA.iloc[: , 0:-1]"
   ]
  },
  {
   "cell_type": "code",
   "execution_count": null,
   "metadata": {
    "scrolled": false
   },
   "outputs": [],
   "source": [
    "insitu_SWEA.head()"
   ]
  },
  {
   "cell_type": "markdown",
   "metadata": {},
   "source": [
    "Remove observations with missing entries:"
   ]
  },
  {
   "cell_type": "code",
   "execution_count": null,
   "metadata": {
    "scrolled": true
   },
   "outputs": [],
   "source": [
    "insitu_SWEA.isnull().sum()"
   ]
  },
  {
   "cell_type": "code",
   "execution_count": null,
   "metadata": {},
   "outputs": [],
   "source": [
    "insitu_SWEA_clean = insitu_SWEA.dropna()"
   ]
  },
  {
   "cell_type": "code",
   "execution_count": null,
   "metadata": {
    "scrolled": false
   },
   "outputs": [],
   "source": [
    "insitu_SWEA_clean.count()"
   ]
  },
  {
   "cell_type": "code",
   "execution_count": null,
   "metadata": {
    "scrolled": true
   },
   "outputs": [],
   "source": [
    "insitu_SWEA_clean.head()"
   ]
  },
  {
   "cell_type": "markdown",
   "metadata": {},
   "source": [
    "Saving the extracted SWEA data as '.xlsx. file for other use:"
   ]
  },
  {
   "cell_type": "code",
   "execution_count": null,
   "metadata": {},
   "outputs": [],
   "source": [
    "insitu_SWEA_clean.to_excel('Data_SWEA.xlsx')"
   ]
  },
  {
   "cell_type": "markdown",
   "metadata": {},
   "source": [
    "## Import the MAVEN Data:\n",
    "\n",
    "Trying the MAVEN data. We will import the saved spreadsheet file. Make sure to check the columns in the file and remove the time-date column before using the dataset for SOM training.\n"
   ]
  },
  {
   "cell_type": "code",
   "execution_count": 5,
   "metadata": {},
   "outputs": [],
   "source": [
    "#-- Uncomment the line below if using the dataframe just created above\n",
    "#MAVEN_data = insitu_SWEA_clean\n",
    "#\n",
    "#\n",
    "#-- Uncomment the line below if loading the saved spreadsheet from local directory\n",
    "MAVEN_data_timeSeries = pd.read_excel('/Users/dhan-lordfortela/Documents/EIL/Proposals/LURA 2020/LURA 2020 - Grant Awarded/LURA_2020 - Working/FINAL_works/on_MAVEN_data/Data_SEP_SWEA_SWIA_LPW_NGIMS_STATIC.xlsx')\n"
   ]
  },
  {
   "cell_type": "markdown",
   "metadata": {},
   "source": [
    "Examine the structure of the data:"
   ]
  },
  {
   "cell_type": "code",
   "execution_count": 6,
   "metadata": {
    "scrolled": false
   },
   "outputs": [
    {
     "data": {
      "text/html": [
       "<div>\n",
       "<style scoped>\n",
       "    .dataframe tbody tr th:only-of-type {\n",
       "        vertical-align: middle;\n",
       "    }\n",
       "\n",
       "    .dataframe tbody tr th {\n",
       "        vertical-align: top;\n",
       "    }\n",
       "\n",
       "    .dataframe thead th {\n",
       "        text-align: right;\n",
       "    }\n",
       "</style>\n",
       "<table border=\"1\" class=\"dataframe\">\n",
       "  <thead>\n",
       "    <tr style=\"text-align: right;\">\n",
       "      <th></th>\n",
       "      <th>Unnamed: 0</th>\n",
       "      <th>ION_ENERGY_FLUX__FOV_1_F</th>\n",
       "      <th>ION_ENERGY_FLUX__FOV_1_F_QUAL</th>\n",
       "      <th>ION_ENERGY_FLUX__FOV_1_R</th>\n",
       "      <th>ION_ENERGY_FLUX__FOV_1_R_QUAL</th>\n",
       "      <th>ION_ENERGY_FLUX__FOV_2_F</th>\n",
       "      <th>ION_ENERGY_FLUX__FOV_2_F_QUAL</th>\n",
       "      <th>ION_ENERGY_FLUX__FOV_2_R</th>\n",
       "      <th>ION_ENERGY_FLUX__FOV_2_R_QUAL</th>\n",
       "      <th>ELECTRON_ENERGY_FLUX___FOV_1_F</th>\n",
       "      <th>...</th>\n",
       "      <th>HPLUS_CHARACTERISTIC_DIRECTION_MSO_X</th>\n",
       "      <th>HPLUS_CHARACTERISTIC_DIRECTION_MSO_Y</th>\n",
       "      <th>HPLUS_CHARACTERISTIC_DIRECTION_MSO_Z</th>\n",
       "      <th>HPLUS_CHARACTERISTIC_ANGULAR_WIDTH</th>\n",
       "      <th>HPLUS_CHARACTERISTIC_ANGULAR_WIDTH_QUAL</th>\n",
       "      <th>DOMINANT_PICKUP_ION_CHARACTERISTIC_DIRECTION_MSO_X</th>\n",
       "      <th>DOMINANT_PICKUP_ION_CHARACTERISTIC_DIRECTION_MSO_Y</th>\n",
       "      <th>DOMINANT_PICKUP_ION_CHARACTERISTIC_DIRECTION_MSO_Z</th>\n",
       "      <th>DOMINANT_PICKUP_ION_CHARACTERISTIC_ANGULAR_WIDTH</th>\n",
       "      <th>DOMINANT_PICKUP_ION_CHARACTERISTIC_ANGULAR_WIDTH_QUAL</th>\n",
       "    </tr>\n",
       "  </thead>\n",
       "  <tbody>\n",
       "    <tr>\n",
       "      <th>0</th>\n",
       "      <td>2018-05-15T00:00:00</td>\n",
       "      <td>NaN</td>\n",
       "      <td>NaN</td>\n",
       "      <td>NaN</td>\n",
       "      <td>NaN</td>\n",
       "      <td>7.86</td>\n",
       "      <td>5.20</td>\n",
       "      <td>6.02</td>\n",
       "      <td>5.20</td>\n",
       "      <td>NaN</td>\n",
       "      <td>...</td>\n",
       "      <td>NaN</td>\n",
       "      <td>NaN</td>\n",
       "      <td>NaN</td>\n",
       "      <td>NaN</td>\n",
       "      <td>NaN</td>\n",
       "      <td>NaN</td>\n",
       "      <td>NaN</td>\n",
       "      <td>NaN</td>\n",
       "      <td>NaN</td>\n",
       "      <td>NaN</td>\n",
       "    </tr>\n",
       "    <tr>\n",
       "      <th>1</th>\n",
       "      <td>2018-05-15T00:00:08</td>\n",
       "      <td>NaN</td>\n",
       "      <td>NaN</td>\n",
       "      <td>NaN</td>\n",
       "      <td>NaN</td>\n",
       "      <td>NaN</td>\n",
       "      <td>NaN</td>\n",
       "      <td>NaN</td>\n",
       "      <td>NaN</td>\n",
       "      <td>NaN</td>\n",
       "      <td>...</td>\n",
       "      <td>NaN</td>\n",
       "      <td>NaN</td>\n",
       "      <td>NaN</td>\n",
       "      <td>NaN</td>\n",
       "      <td>NaN</td>\n",
       "      <td>NaN</td>\n",
       "      <td>NaN</td>\n",
       "      <td>NaN</td>\n",
       "      <td>NaN</td>\n",
       "      <td>NaN</td>\n",
       "    </tr>\n",
       "    <tr>\n",
       "      <th>2</th>\n",
       "      <td>2018-05-15T00:00:16</td>\n",
       "      <td>NaN</td>\n",
       "      <td>NaN</td>\n",
       "      <td>NaN</td>\n",
       "      <td>NaN</td>\n",
       "      <td>NaN</td>\n",
       "      <td>NaN</td>\n",
       "      <td>NaN</td>\n",
       "      <td>NaN</td>\n",
       "      <td>NaN</td>\n",
       "      <td>...</td>\n",
       "      <td>NaN</td>\n",
       "      <td>NaN</td>\n",
       "      <td>NaN</td>\n",
       "      <td>NaN</td>\n",
       "      <td>NaN</td>\n",
       "      <td>NaN</td>\n",
       "      <td>NaN</td>\n",
       "      <td>NaN</td>\n",
       "      <td>NaN</td>\n",
       "      <td>NaN</td>\n",
       "    </tr>\n",
       "    <tr>\n",
       "      <th>3</th>\n",
       "      <td>2018-05-15T00:00:24</td>\n",
       "      <td>17.6</td>\n",
       "      <td>5.82</td>\n",
       "      <td>4.63</td>\n",
       "      <td>5.82</td>\n",
       "      <td>NaN</td>\n",
       "      <td>NaN</td>\n",
       "      <td>NaN</td>\n",
       "      <td>NaN</td>\n",
       "      <td>2.55</td>\n",
       "      <td>...</td>\n",
       "      <td>NaN</td>\n",
       "      <td>NaN</td>\n",
       "      <td>NaN</td>\n",
       "      <td>NaN</td>\n",
       "      <td>NaN</td>\n",
       "      <td>NaN</td>\n",
       "      <td>NaN</td>\n",
       "      <td>NaN</td>\n",
       "      <td>NaN</td>\n",
       "      <td>NaN</td>\n",
       "    </tr>\n",
       "    <tr>\n",
       "      <th>4</th>\n",
       "      <td>2018-05-15T00:00:32</td>\n",
       "      <td>11.1</td>\n",
       "      <td>5.41</td>\n",
       "      <td>3.48</td>\n",
       "      <td>5.41</td>\n",
       "      <td>12.70</td>\n",
       "      <td>5.52</td>\n",
       "      <td>3.94</td>\n",
       "      <td>5.52</td>\n",
       "      <td>3.47</td>\n",
       "      <td>...</td>\n",
       "      <td>NaN</td>\n",
       "      <td>NaN</td>\n",
       "      <td>NaN</td>\n",
       "      <td>NaN</td>\n",
       "      <td>NaN</td>\n",
       "      <td>NaN</td>\n",
       "      <td>NaN</td>\n",
       "      <td>NaN</td>\n",
       "      <td>NaN</td>\n",
       "      <td>NaN</td>\n",
       "    </tr>\n",
       "  </tbody>\n",
       "</table>\n",
       "<p>5 rows × 157 columns</p>\n",
       "</div>"
      ],
      "text/plain": [
       "            Unnamed: 0  ION_ENERGY_FLUX__FOV_1_F  \\\n",
       "0  2018-05-15T00:00:00                       NaN   \n",
       "1  2018-05-15T00:00:08                       NaN   \n",
       "2  2018-05-15T00:00:16                       NaN   \n",
       "3  2018-05-15T00:00:24                      17.6   \n",
       "4  2018-05-15T00:00:32                      11.1   \n",
       "\n",
       "   ION_ENERGY_FLUX__FOV_1_F_QUAL  ION_ENERGY_FLUX__FOV_1_R  \\\n",
       "0                            NaN                       NaN   \n",
       "1                            NaN                       NaN   \n",
       "2                            NaN                       NaN   \n",
       "3                           5.82                      4.63   \n",
       "4                           5.41                      3.48   \n",
       "\n",
       "   ION_ENERGY_FLUX__FOV_1_R_QUAL  ION_ENERGY_FLUX__FOV_2_F  \\\n",
       "0                            NaN                      7.86   \n",
       "1                            NaN                       NaN   \n",
       "2                            NaN                       NaN   \n",
       "3                           5.82                       NaN   \n",
       "4                           5.41                     12.70   \n",
       "\n",
       "   ION_ENERGY_FLUX__FOV_2_F_QUAL  ION_ENERGY_FLUX__FOV_2_R  \\\n",
       "0                           5.20                      6.02   \n",
       "1                            NaN                       NaN   \n",
       "2                            NaN                       NaN   \n",
       "3                            NaN                       NaN   \n",
       "4                           5.52                      3.94   \n",
       "\n",
       "   ION_ENERGY_FLUX__FOV_2_R_QUAL  ELECTRON_ENERGY_FLUX___FOV_1_F  ...  \\\n",
       "0                           5.20                             NaN  ...   \n",
       "1                            NaN                             NaN  ...   \n",
       "2                            NaN                             NaN  ...   \n",
       "3                            NaN                            2.55  ...   \n",
       "4                           5.52                            3.47  ...   \n",
       "\n",
       "   HPLUS_CHARACTERISTIC_DIRECTION_MSO_X  HPLUS_CHARACTERISTIC_DIRECTION_MSO_Y  \\\n",
       "0                                   NaN                                   NaN   \n",
       "1                                   NaN                                   NaN   \n",
       "2                                   NaN                                   NaN   \n",
       "3                                   NaN                                   NaN   \n",
       "4                                   NaN                                   NaN   \n",
       "\n",
       "   HPLUS_CHARACTERISTIC_DIRECTION_MSO_Z  HPLUS_CHARACTERISTIC_ANGULAR_WIDTH  \\\n",
       "0                                   NaN                                 NaN   \n",
       "1                                   NaN                                 NaN   \n",
       "2                                   NaN                                 NaN   \n",
       "3                                   NaN                                 NaN   \n",
       "4                                   NaN                                 NaN   \n",
       "\n",
       "   HPLUS_CHARACTERISTIC_ANGULAR_WIDTH_QUAL  \\\n",
       "0                                      NaN   \n",
       "1                                      NaN   \n",
       "2                                      NaN   \n",
       "3                                      NaN   \n",
       "4                                      NaN   \n",
       "\n",
       "   DOMINANT_PICKUP_ION_CHARACTERISTIC_DIRECTION_MSO_X  \\\n",
       "0                                                NaN    \n",
       "1                                                NaN    \n",
       "2                                                NaN    \n",
       "3                                                NaN    \n",
       "4                                                NaN    \n",
       "\n",
       "   DOMINANT_PICKUP_ION_CHARACTERISTIC_DIRECTION_MSO_Y  \\\n",
       "0                                                NaN    \n",
       "1                                                NaN    \n",
       "2                                                NaN    \n",
       "3                                                NaN    \n",
       "4                                                NaN    \n",
       "\n",
       "   DOMINANT_PICKUP_ION_CHARACTERISTIC_DIRECTION_MSO_Z  \\\n",
       "0                                                NaN    \n",
       "1                                                NaN    \n",
       "2                                                NaN    \n",
       "3                                                NaN    \n",
       "4                                                NaN    \n",
       "\n",
       "   DOMINANT_PICKUP_ION_CHARACTERISTIC_ANGULAR_WIDTH  \\\n",
       "0                                               NaN   \n",
       "1                                               NaN   \n",
       "2                                               NaN   \n",
       "3                                               NaN   \n",
       "4                                               NaN   \n",
       "\n",
       "   DOMINANT_PICKUP_ION_CHARACTERISTIC_ANGULAR_WIDTH_QUAL  \n",
       "0                                                NaN      \n",
       "1                                                NaN      \n",
       "2                                                NaN      \n",
       "3                                                NaN      \n",
       "4                                                NaN      \n",
       "\n",
       "[5 rows x 157 columns]"
      ]
     },
     "execution_count": 6,
     "metadata": {},
     "output_type": "execute_result"
    }
   ],
   "source": [
    "MAVEN_data_timeSeries.head()"
   ]
  },
  {
   "cell_type": "markdown",
   "metadata": {},
   "source": [
    "Remove the time-date column (first column)."
   ]
  },
  {
   "cell_type": "code",
   "execution_count": null,
   "metadata": {
    "scrolled": false
   },
   "outputs": [],
   "source": [
    "MAVEN_data.head()"
   ]
  },
  {
   "cell_type": "markdown",
   "metadata": {},
   "source": [
    "Make sure the data types are correct. All of the SWEA variables (after removing the date-time) should be 'float64' data type."
   ]
  },
  {
   "cell_type": "code",
   "execution_count": null,
   "metadata": {},
   "outputs": [],
   "source": [
    "MAVEN_data.count()"
   ]
  },
  {
   "cell_type": "code",
   "execution_count": null,
   "metadata": {
    "scrolled": false
   },
   "outputs": [],
   "source": [
    "MAVEN_data.astype('float64').dtypes"
   ]
  },
  {
   "cell_type": "markdown",
   "metadata": {},
   "source": [
    "Check the number of observations."
   ]
  },
  {
   "cell_type": "markdown",
   "metadata": {},
   "source": [
    "Extract thge Column names to be used for component plane rendering:"
   ]
  },
  {
   "cell_type": "code",
   "execution_count": null,
   "metadata": {},
   "outputs": [],
   "source": [
    "component_names=list(MAVEN_data.columns)\n",
    "print(component_names)"
   ]
  },
  {
   "cell_type": "markdown",
   "metadata": {},
   "source": [
    "Remove the 'Quality' variable since it is a standard deviation of the measurements:"
   ]
  },
  {
   "cell_type": "code",
   "execution_count": 7,
   "metadata": {},
   "outputs": [],
   "source": [
    "MAVEN_data_noQUAL = MAVEN_data_timeSeries.drop(['ION_ENERGY_FLUX__FOV_1_F_QUAL', \n",
    "                                     'ION_ENERGY_FLUX__FOV_1_R_QUAL', \n",
    "                                     'ION_ENERGY_FLUX__FOV_2_F_QUAL', \n",
    "                                     'ION_ENERGY_FLUX__FOV_2_R_QUAL', \n",
    "                                     'ELECTRON_ENERGY_FLUX___FOV_1_F_QUAL', \n",
    "                                     'ELECTRON_ENERGY_FLUX___FOV_1_R_QUAL', \n",
    "                                     'ELECTRON_ENERGY_FLUX___FOV_2_F_QUAL', \n",
    "                                     'ELECTRON_ENERGY_FLUX___FOV_2_R_QUAL', \n",
    "                                     'HPLUS_FLOW_VELOCITY_MSO_X_QUAL',\n",
    "                                     'HPLUS_FLOW_VELOCITY_MSO_Y_QUAL', \n",
    "                                     'HPLUS_FLOW_VELOCITY_MSO_Z_QUAL',\n",
    "                                     'HPLUS_TEMPERATURE_QUAL_x', \n",
    "                                     'SOLAR_WIND_DYNAMIC_PRESSURE_QUAL', \n",
    "                                     'ELECTRON_DENSITY_QUAL_MIN', \n",
    "                                     'ELECTRON_DENSITY_QUAL_MAX', \n",
    "                                     'ELECTRON_TEMPERATURE_QUAL_MIN', \n",
    "                                     'ELECTRON_TEMPERATURE_QUAL_MAX', \n",
    "                                     'SPACECRAFT_POTENTIAL_QUAL_MIN', \n",
    "                                     'SPACECRAFT_POTENTIAL_QUAL_MAX', \n",
    "                                     'EWAVE_LOW_FREQ_QUAL_QUAL',\n",
    "                                     'EWAVE_MID_FREQ_QUAL_QUAL', \n",
    "                                     'EWAVE_HIGH_FREQ_QUAL_QUAL',\n",
    "                                     'HE_DENSITY_PRECISION', \n",
    "                                     'HE_DENSITY_QUAL', \n",
    "                                     'O_DENSITY_PRECISION', \n",
    "                                     'O_DENSITY_QUAL', \n",
    "                                     'CO_DENSITY_PRECISION', \n",
    "                                     'CO_DENSITY_QUAL', \n",
    "                                     'N2_DENSITY_PRECISION', \n",
    "                                     'N2_DENSITY_QUAL',\n",
    "                                     'NO_DENSITY_PRECISION', \n",
    "                                     'NO_DENSITY_QUAL', \n",
    "                                     'AR_DENSITY_PRECISION', \n",
    "                                     'AR_DENSITY_QUAL',\n",
    "                                     'CO2_DENSITY_PRECISION', \n",
    "                                     'CO2_DENSITY_QUAL',  \n",
    "                                     'O2PLUS_DENSITY_PRECISION', \n",
    "                                     'O2PLUS_DENSITY_QUAL_x', \n",
    "                                     'CO2PLUS_DENSITY_PRECISION', \n",
    "                                     'CO2PLUS_DENSITY_QUAL', \n",
    "                                     'NOPLUS_DENSITY_PRECISION', \n",
    "                                     'NOPLUS_DENSITY_QUAL', \n",
    "                                     'OPLUS_DENSITY_PRECISION', \n",
    "                                     'OPLUS_DENSITY_QUAL_x', \n",
    "                                     'CO2PLUS_N2PLUS_DENSITY_PRECISION', \n",
    "                                     'CO2PLUS_N2PLUS_DENSITY_QUAL', \n",
    "                                     'CPLUS_DENSITY_PRECISION', \n",
    "                                     'CPLUS_DENSITY_QUAL', \n",
    "                                     'OHPLUS_DENSITY_PRECISION', \n",
    "                                     'OHPLUS_DENSITY_QUAL', \n",
    "                                     'NPLUS_DENSITY_PRECISION', \n",
    "                                     'NPLUS_DENSITY_QUAL', \n",
    "                                     'STATIC_QUALITY_FLAG', \n",
    "                                     'HPLUS_DENSITY_QUAL_y', \n",
    "                                     'OPLUS_DENSITY_QUAL_y', \n",
    "                                     'O2PLUS_DENSITY_QUAL_y', \n",
    "                                     'HPLUS_TEMPERATURE_QUAL_y', \n",
    "                                     'OPLUS_TEMPERATURE_QUAL', \n",
    "                                     'O2PLUS_TEMPERATURE_QUAL', \n",
    "                                     'O2PLUS_FLOW_VELOCITY_MAVEN_APP_X_QUAL', \n",
    "                                     'O2PLUS_FLOW_VELOCITY_MAVEN_APP_Y_QUAL', \n",
    "                                     'O2PLUS_FLOW_VELOCITY_MAVEN_APP_Z_QUAL', \n",
    "                                     'O2PLUS_FLOW_VELOCITY_MSO_X_QUAL', \n",
    "                                     'O2PLUS_FLOW_VELOCITY_MSO_Y_QUAL', \n",
    "                                     'O2PLUS_FLOW_VELOCITY_MSO_Z_QUAL', \n",
    "                                     'HPLUS_CHARACTERISTIC_ENERGY_QUAL', \n",
    "                                     'HEPLUS_CHARACTERISTIC_ENERGY_QUAL', \n",
    "                                     'OPLUS_CHARACTERISTIC_ENERGY_QUAL', \n",
    "                                     'O2PLUS_CHARACTERISTIC_ENERGY_QUAL', \n",
    "                                     'HPLUS_CHARACTERISTIC_ANGULAR_WIDTH_QUAL', \n",
    "                                     'DOMINANT_PICKUP_ION_CHARACTERISTIC_ANGULAR_WIDTH_QUAL',\n",
    "                                \n",
    "                    # Also remove variables that are have too many null or None values:\n",
    "                                     'DOMINANT_PICKUP_ION_CHARACTERISTIC_ANGULAR_WIDTH',\n",
    "                                     'DOMINANT_PICKUP_ION_CHARACTERISTIC_DIRECTION_MSO_Z',\n",
    "                                     'DOMINANT_PICKUP_ION_CHARACTERISTIC_DIRECTION_MSO_Y',\n",
    "                                     'DOMINANT_PICKUP_ION_CHARACTERISTIC_DIRECTION_MSO_X',\n",
    "                                     'HPLUS_CHARACTERISTIC_ANGULAR_WIDTH',\n",
    "                                                'HPLUS_CHARACTERISTIC_DIRECTION_MSO_Z',\n",
    "                                                'HPLUS_CHARACTERISTIC_DIRECTION_MSO_Y',\n",
    "                                                'HPLUS_CHARACTERISTIC_DIRECTION_MSO_X',\n",
    "                                                'O2PLUS_CHARACTERISTIC_ENERGY',\n",
    "                                                'O2PLUS_OMNI_DIRECTIONAL_FLUX',\n",
    "                                                'OPLUS_CHARACTERISTIC_ENERGY',\n",
    "                                                'OPLUS_OMNI_DIRECTIONAL_FLUX',\n",
    "                                                'HEPLUS_CHARACTERISTIC_ENERGY',\n",
    "                                                'HEPLUS_OMNI_DIRECTIONAL_FLUX',\n",
    "                                                'HPLUS_CHARACTERISTIC_ENERGY',\n",
    "                                                'HPLUS_OMNI_DIRECTIONAL_FLUX',\n",
    "                                                'O2PLUS_FLOW_VELOCITY_MSO_Z',\n",
    "                                                'O2PLUS_FLOW_VELOCITY_MSO_Y',\n",
    "                                                'O2PLUS_FLOW_VELOCITY_MSO_X',\n",
    "                                                'O2PLUS_FLOW_VELOCITY_MAVEN_APP_Z',\n",
    "                                                'O2PLUS_FLOW_VELOCITY_MAVEN_APP_Y',\n",
    "                                                'O2PLUS_FLOW_VELOCITY_MAVEN_APP_X',\n",
    "                                                'O2PLUS_TEMPERATURE',\n",
    "                                                'OPLUS_TEMPERATURE',\n",
    "                                                'HPLUS_TEMPERATURE_y',\n",
    "                                                'O2PLUS_DENSITY_y',\n",
    "                                                'OPLUS_DENSITY_y',\n",
    "                                                'HPLUS_DENSITY_y',\n",
    "                                                'NPLUS_DENSITY',\n",
    "                                                'NO_DENSITY',\n",
    "                                                'EWAVE_HIGH_FREQ',\n",
    "                                                'EWAVE_MID_FREQ',\n",
    "                                                'EWAVE_LOW_FREQ',\n",
    "                                                'OHPLUS_DENSITY',\n",
    "                                                'CPLUS_DENSITY',\n",
    "                                                'CO2PLUS_N2PLUS_DENSITY',\n",
    "                                                'OPLUS_DENSITY_x',\n",
    "                                                'NOPLUS_DENSITY',\n",
    "                                                'CO2PLUS_DENSITY',\n",
    "                                                'O2PLUS_DENSITY_x',\n",
    "                                                'CO2_DENSITY',\n",
    "                                                'AR_DENSITY',\n",
    "                                                'N2_DENSITY',\n",
    "                                                'CO_DENSITY',\n",
    "                                                'O_DENSITY',\n",
    "                                                'HE_DENSITY',\n",
    "                                                'ELECTRON_ANTI_PARALLEL_FLUX_HIGH',\n",
    "                                                'ELECTRON_PARALLEL_FLUX_HIGH'\n",
    "                                                \n",
    "                                            \n",
    "                                               ], axis='columns', inplace=False)"
   ]
  },
  {
   "cell_type": "code",
   "execution_count": 8,
   "metadata": {
    "scrolled": true
   },
   "outputs": [
    {
     "data": {
      "text/plain": [
       "Unnamed: 0                           539292\n",
       "ION_ENERGY_FLUX__FOV_1_F             538926\n",
       "ION_ENERGY_FLUX__FOV_1_R             538926\n",
       "ION_ENERGY_FLUX__FOV_2_F             538767\n",
       "ION_ENERGY_FLUX__FOV_2_R             538767\n",
       "ELECTRON_ENERGY_FLUX___FOV_1_F       538926\n",
       "ELECTRON_ENERGY_FLUX___FOV_1_R       538926\n",
       "ELECTRON_ENERGY_FLUX___FOV_2_F       538767\n",
       "ELECTRON_ENERGY_FLUX___FOV_2_R       538767\n",
       "LOOK_DIRECTION_1_F_MSO_X             539246\n",
       "LOOK_DIRECTION_1_F_MSO_Y             539246\n",
       "LOOK_DIRECTION_1_F_MSO_Z             539246\n",
       "LOOK_DIRECTION_1_R_MSO_X             539246\n",
       "LOOK_DIRECTION_1_R_MSO_Y             539246\n",
       "LOOK_DIRECTION_1_R_MSO_Z             539246\n",
       "LOOK_DIRECTION_2_F_MSO_X             539246\n",
       "LOOK_DIRECTION_2_F_MSO_Y             539246\n",
       "LOOK_DIRECTION_2_F_MSO_Z             539246\n",
       "LOOK_DIRECTION_2_R_MSO_X             539246\n",
       "LOOK_DIRECTION_2_R_MSO_Y             539246\n",
       "LOOK_DIRECTION_2_R_MSO_Z             539246\n",
       "SOLAR_WIND_ELECTRON_DENSITY          431784\n",
       "SOLAR_WIND_ELECTRON_TEMPERATURE      431784\n",
       "ELECTRON_PARALLEL_FLUX_LOW           535862\n",
       "ELECTRON_PARALLEL_FLUX_MID           535732\n",
       "ELECTRON_ANTI_PARALLEL_FLUX_LOW      535832\n",
       "ELECTRON_ANTI_PARALLEL_FLUX_MID      535720\n",
       "ELECTRON_SPECTRUM_SHAPE_PARAMETER    535864\n",
       "HPLUS_DENSITY_x                      537413\n",
       "HPLUS_DENSITY_QUAL_x                 537459\n",
       "HPLUS_FLOW_VELOCITY_MSO_X            537413\n",
       "HPLUS_FLOW_VELOCITY_MSO_Y            537413\n",
       "HPLUS_FLOW_VELOCITY_MSO_Z            537413\n",
       "HPLUS_TEMPERATURE_x                  537413\n",
       "SOLAR_WIND_DYNAMIC_PRESSURE          537413\n",
       "ELECTRON_DENSITY                     148465\n",
       "ELECTRON_TEMPERATURE                 331957\n",
       "SPACECRAFT_POTENTIAL                 222894\n",
       "dtype: int64"
      ]
     },
     "execution_count": 8,
     "metadata": {},
     "output_type": "execute_result"
    }
   ],
   "source": [
    "MAVEN_data_noQUAL.count()"
   ]
  },
  {
   "cell_type": "code",
   "execution_count": 9,
   "metadata": {
    "scrolled": true
   },
   "outputs": [
    {
     "data": {
      "text/plain": [
       "Unnamed: 0                                0\n",
       "ION_ENERGY_FLUX__FOV_1_F                366\n",
       "ION_ENERGY_FLUX__FOV_1_R                366\n",
       "ION_ENERGY_FLUX__FOV_2_F                525\n",
       "ION_ENERGY_FLUX__FOV_2_R                525\n",
       "ELECTRON_ENERGY_FLUX___FOV_1_F          366\n",
       "ELECTRON_ENERGY_FLUX___FOV_1_R          366\n",
       "ELECTRON_ENERGY_FLUX___FOV_2_F          525\n",
       "ELECTRON_ENERGY_FLUX___FOV_2_R          525\n",
       "LOOK_DIRECTION_1_F_MSO_X                 46\n",
       "LOOK_DIRECTION_1_F_MSO_Y                 46\n",
       "LOOK_DIRECTION_1_F_MSO_Z                 46\n",
       "LOOK_DIRECTION_1_R_MSO_X                 46\n",
       "LOOK_DIRECTION_1_R_MSO_Y                 46\n",
       "LOOK_DIRECTION_1_R_MSO_Z                 46\n",
       "LOOK_DIRECTION_2_F_MSO_X                 46\n",
       "LOOK_DIRECTION_2_F_MSO_Y                 46\n",
       "LOOK_DIRECTION_2_F_MSO_Z                 46\n",
       "LOOK_DIRECTION_2_R_MSO_X                 46\n",
       "LOOK_DIRECTION_2_R_MSO_Y                 46\n",
       "LOOK_DIRECTION_2_R_MSO_Z                 46\n",
       "SOLAR_WIND_ELECTRON_DENSITY          107508\n",
       "SOLAR_WIND_ELECTRON_TEMPERATURE      107508\n",
       "ELECTRON_PARALLEL_FLUX_LOW             3430\n",
       "ELECTRON_PARALLEL_FLUX_MID             3560\n",
       "ELECTRON_ANTI_PARALLEL_FLUX_LOW        3460\n",
       "ELECTRON_ANTI_PARALLEL_FLUX_MID        3572\n",
       "ELECTRON_SPECTRUM_SHAPE_PARAMETER      3428\n",
       "HPLUS_DENSITY_x                        1879\n",
       "HPLUS_DENSITY_QUAL_x                   1833\n",
       "HPLUS_FLOW_VELOCITY_MSO_X              1879\n",
       "HPLUS_FLOW_VELOCITY_MSO_Y              1879\n",
       "HPLUS_FLOW_VELOCITY_MSO_Z              1879\n",
       "HPLUS_TEMPERATURE_x                    1879\n",
       "SOLAR_WIND_DYNAMIC_PRESSURE            1879\n",
       "ELECTRON_DENSITY                     390827\n",
       "ELECTRON_TEMPERATURE                 207335\n",
       "SPACECRAFT_POTENTIAL                 316398\n",
       "dtype: int64"
      ]
     },
     "execution_count": 9,
     "metadata": {},
     "output_type": "execute_result"
    }
   ],
   "source": [
    "MAVEN_data_noQUAL.isnull().sum()"
   ]
  },
  {
   "cell_type": "code",
   "execution_count": 10,
   "metadata": {},
   "outputs": [],
   "source": [
    "MAVEN_data_noNA = MAVEN_data_noQUAL.dropna()"
   ]
  },
  {
   "cell_type": "code",
   "execution_count": 11,
   "metadata": {
    "scrolled": false
   },
   "outputs": [
    {
     "data": {
      "text/plain": [
       "Unnamed: 0                           57832\n",
       "ION_ENERGY_FLUX__FOV_1_F             57832\n",
       "ION_ENERGY_FLUX__FOV_1_R             57832\n",
       "ION_ENERGY_FLUX__FOV_2_F             57832\n",
       "ION_ENERGY_FLUX__FOV_2_R             57832\n",
       "ELECTRON_ENERGY_FLUX___FOV_1_F       57832\n",
       "ELECTRON_ENERGY_FLUX___FOV_1_R       57832\n",
       "ELECTRON_ENERGY_FLUX___FOV_2_F       57832\n",
       "ELECTRON_ENERGY_FLUX___FOV_2_R       57832\n",
       "LOOK_DIRECTION_1_F_MSO_X             57832\n",
       "LOOK_DIRECTION_1_F_MSO_Y             57832\n",
       "LOOK_DIRECTION_1_F_MSO_Z             57832\n",
       "LOOK_DIRECTION_1_R_MSO_X             57832\n",
       "LOOK_DIRECTION_1_R_MSO_Y             57832\n",
       "LOOK_DIRECTION_1_R_MSO_Z             57832\n",
       "LOOK_DIRECTION_2_F_MSO_X             57832\n",
       "LOOK_DIRECTION_2_F_MSO_Y             57832\n",
       "LOOK_DIRECTION_2_F_MSO_Z             57832\n",
       "LOOK_DIRECTION_2_R_MSO_X             57832\n",
       "LOOK_DIRECTION_2_R_MSO_Y             57832\n",
       "LOOK_DIRECTION_2_R_MSO_Z             57832\n",
       "SOLAR_WIND_ELECTRON_DENSITY          57832\n",
       "SOLAR_WIND_ELECTRON_TEMPERATURE      57832\n",
       "ELECTRON_PARALLEL_FLUX_LOW           57832\n",
       "ELECTRON_PARALLEL_FLUX_MID           57832\n",
       "ELECTRON_ANTI_PARALLEL_FLUX_LOW      57832\n",
       "ELECTRON_ANTI_PARALLEL_FLUX_MID      57832\n",
       "ELECTRON_SPECTRUM_SHAPE_PARAMETER    57832\n",
       "HPLUS_DENSITY_x                      57832\n",
       "HPLUS_DENSITY_QUAL_x                 57832\n",
       "HPLUS_FLOW_VELOCITY_MSO_X            57832\n",
       "HPLUS_FLOW_VELOCITY_MSO_Y            57832\n",
       "HPLUS_FLOW_VELOCITY_MSO_Z            57832\n",
       "HPLUS_TEMPERATURE_x                  57832\n",
       "SOLAR_WIND_DYNAMIC_PRESSURE          57832\n",
       "ELECTRON_DENSITY                     57832\n",
       "ELECTRON_TEMPERATURE                 57832\n",
       "SPACECRAFT_POTENTIAL                 57832\n",
       "dtype: int64"
      ]
     },
     "execution_count": 11,
     "metadata": {},
     "output_type": "execute_result"
    }
   ],
   "source": [
    "MAVEN_data_noNA.count()"
   ]
  },
  {
   "cell_type": "code",
   "execution_count": 12,
   "metadata": {},
   "outputs": [
    {
     "data": {
      "text/plain": [
       "Unnamed: 0                           0\n",
       "ION_ENERGY_FLUX__FOV_1_F             0\n",
       "ION_ENERGY_FLUX__FOV_1_R             0\n",
       "ION_ENERGY_FLUX__FOV_2_F             0\n",
       "ION_ENERGY_FLUX__FOV_2_R             0\n",
       "ELECTRON_ENERGY_FLUX___FOV_1_F       0\n",
       "ELECTRON_ENERGY_FLUX___FOV_1_R       0\n",
       "ELECTRON_ENERGY_FLUX___FOV_2_F       0\n",
       "ELECTRON_ENERGY_FLUX___FOV_2_R       0\n",
       "LOOK_DIRECTION_1_F_MSO_X             0\n",
       "LOOK_DIRECTION_1_F_MSO_Y             0\n",
       "LOOK_DIRECTION_1_F_MSO_Z             0\n",
       "LOOK_DIRECTION_1_R_MSO_X             0\n",
       "LOOK_DIRECTION_1_R_MSO_Y             0\n",
       "LOOK_DIRECTION_1_R_MSO_Z             0\n",
       "LOOK_DIRECTION_2_F_MSO_X             0\n",
       "LOOK_DIRECTION_2_F_MSO_Y             0\n",
       "LOOK_DIRECTION_2_F_MSO_Z             0\n",
       "LOOK_DIRECTION_2_R_MSO_X             0\n",
       "LOOK_DIRECTION_2_R_MSO_Y             0\n",
       "LOOK_DIRECTION_2_R_MSO_Z             0\n",
       "SOLAR_WIND_ELECTRON_DENSITY          0\n",
       "SOLAR_WIND_ELECTRON_TEMPERATURE      0\n",
       "ELECTRON_PARALLEL_FLUX_LOW           0\n",
       "ELECTRON_PARALLEL_FLUX_MID           0\n",
       "ELECTRON_ANTI_PARALLEL_FLUX_LOW      0\n",
       "ELECTRON_ANTI_PARALLEL_FLUX_MID      0\n",
       "ELECTRON_SPECTRUM_SHAPE_PARAMETER    0\n",
       "HPLUS_DENSITY_x                      0\n",
       "HPLUS_DENSITY_QUAL_x                 0\n",
       "HPLUS_FLOW_VELOCITY_MSO_X            0\n",
       "HPLUS_FLOW_VELOCITY_MSO_Y            0\n",
       "HPLUS_FLOW_VELOCITY_MSO_Z            0\n",
       "HPLUS_TEMPERATURE_x                  0\n",
       "SOLAR_WIND_DYNAMIC_PRESSURE          0\n",
       "ELECTRON_DENSITY                     0\n",
       "ELECTRON_TEMPERATURE                 0\n",
       "SPACECRAFT_POTENTIAL                 0\n",
       "dtype: int64"
      ]
     },
     "execution_count": 12,
     "metadata": {},
     "output_type": "execute_result"
    }
   ],
   "source": [
    "MAVEN_data_noNA.isnull().sum()"
   ]
  },
  {
   "cell_type": "code",
   "execution_count": 13,
   "metadata": {},
   "outputs": [],
   "source": [
    "MAVEN_data_noNA.to_excel('Data_MAVEN_data_noQUAL_noNA.xlsx')"
   ]
  },
  {
   "cell_type": "code",
   "execution_count": 22,
   "metadata": {},
   "outputs": [],
   "source": [
    "MAVEN_data_huge = MAVEN_data_noNA.iloc[:,1:]"
   ]
  },
  {
   "cell_type": "code",
   "execution_count": 47,
   "metadata": {
    "scrolled": true
   },
   "outputs": [
    {
     "data": {
      "text/html": [
       "<div>\n",
       "<style scoped>\n",
       "    .dataframe tbody tr th:only-of-type {\n",
       "        vertical-align: middle;\n",
       "    }\n",
       "\n",
       "    .dataframe tbody tr th {\n",
       "        vertical-align: top;\n",
       "    }\n",
       "\n",
       "    .dataframe thead th {\n",
       "        text-align: right;\n",
       "    }\n",
       "</style>\n",
       "<table border=\"1\" class=\"dataframe\">\n",
       "  <thead>\n",
       "    <tr style=\"text-align: right;\">\n",
       "      <th></th>\n",
       "      <th>ION_ENERGY_FLUX__FOV_1_F</th>\n",
       "      <th>ION_ENERGY_FLUX__FOV_1_R</th>\n",
       "      <th>ION_ENERGY_FLUX__FOV_2_F</th>\n",
       "      <th>ION_ENERGY_FLUX__FOV_2_R</th>\n",
       "      <th>ELECTRON_ENERGY_FLUX___FOV_1_F</th>\n",
       "      <th>ELECTRON_ENERGY_FLUX___FOV_1_R</th>\n",
       "      <th>ELECTRON_ENERGY_FLUX___FOV_2_F</th>\n",
       "      <th>ELECTRON_ENERGY_FLUX___FOV_2_R</th>\n",
       "      <th>LOOK_DIRECTION_1_F_MSO_X</th>\n",
       "      <th>LOOK_DIRECTION_1_F_MSO_Y</th>\n",
       "      <th>...</th>\n",
       "      <th>HPLUS_DENSITY_x</th>\n",
       "      <th>HPLUS_DENSITY_QUAL_x</th>\n",
       "      <th>HPLUS_FLOW_VELOCITY_MSO_X</th>\n",
       "      <th>HPLUS_FLOW_VELOCITY_MSO_Y</th>\n",
       "      <th>HPLUS_FLOW_VELOCITY_MSO_Z</th>\n",
       "      <th>HPLUS_TEMPERATURE_x</th>\n",
       "      <th>SOLAR_WIND_DYNAMIC_PRESSURE</th>\n",
       "      <th>ELECTRON_DENSITY</th>\n",
       "      <th>ELECTRON_TEMPERATURE</th>\n",
       "      <th>SPACECRAFT_POTENTIAL</th>\n",
       "    </tr>\n",
       "  </thead>\n",
       "  <tbody>\n",
       "    <tr>\n",
       "      <th>10</th>\n",
       "      <td>4.40</td>\n",
       "      <td>6.25</td>\n",
       "      <td>7.41</td>\n",
       "      <td>6.94</td>\n",
       "      <td>5.10</td>\n",
       "      <td>2.08</td>\n",
       "      <td>2.56</td>\n",
       "      <td>4.40</td>\n",
       "      <td>0.707</td>\n",
       "      <td>0.331</td>\n",
       "      <td>...</td>\n",
       "      <td>1.09</td>\n",
       "      <td>1.0</td>\n",
       "      <td>-237.0</td>\n",
       "      <td>27.40</td>\n",
       "      <td>-47.4</td>\n",
       "      <td>53.8</td>\n",
       "      <td>0.108</td>\n",
       "      <td>0.756</td>\n",
       "      <td>4790.0</td>\n",
       "      <td>0.000069</td>\n",
       "    </tr>\n",
       "    <tr>\n",
       "      <th>976</th>\n",
       "      <td>9.49</td>\n",
       "      <td>8.10</td>\n",
       "      <td>8.56</td>\n",
       "      <td>3.93</td>\n",
       "      <td>3.24</td>\n",
       "      <td>3.24</td>\n",
       "      <td>4.16</td>\n",
       "      <td>3.24</td>\n",
       "      <td>0.707</td>\n",
       "      <td>-0.706</td>\n",
       "      <td>...</td>\n",
       "      <td>9.95</td>\n",
       "      <td>1.0</td>\n",
       "      <td>-489.0</td>\n",
       "      <td>-1.65</td>\n",
       "      <td>118.0</td>\n",
       "      <td>190.0</td>\n",
       "      <td>4.250</td>\n",
       "      <td>0.309</td>\n",
       "      <td>9690.0</td>\n",
       "      <td>1.110000</td>\n",
       "    </tr>\n",
       "    <tr>\n",
       "      <th>1064</th>\n",
       "      <td>9.96</td>\n",
       "      <td>9.72</td>\n",
       "      <td>2.78</td>\n",
       "      <td>3.01</td>\n",
       "      <td>1.62</td>\n",
       "      <td>2.32</td>\n",
       "      <td>3.71</td>\n",
       "      <td>4.63</td>\n",
       "      <td>0.707</td>\n",
       "      <td>-0.332</td>\n",
       "      <td>...</td>\n",
       "      <td>7.95</td>\n",
       "      <td>1.0</td>\n",
       "      <td>-378.0</td>\n",
       "      <td>-29.80</td>\n",
       "      <td>81.0</td>\n",
       "      <td>167.0</td>\n",
       "      <td>2.020</td>\n",
       "      <td>0.647</td>\n",
       "      <td>7890.0</td>\n",
       "      <td>0.433000</td>\n",
       "    </tr>\n",
       "    <tr>\n",
       "      <th>1070</th>\n",
       "      <td>6.25</td>\n",
       "      <td>5.33</td>\n",
       "      <td>7.64</td>\n",
       "      <td>5.56</td>\n",
       "      <td>4.16</td>\n",
       "      <td>4.39</td>\n",
       "      <td>3.71</td>\n",
       "      <td>6.95</td>\n",
       "      <td>0.707</td>\n",
       "      <td>-0.330</td>\n",
       "      <td>...</td>\n",
       "      <td>11.50</td>\n",
       "      <td>1.0</td>\n",
       "      <td>-396.0</td>\n",
       "      <td>-41.50</td>\n",
       "      <td>102.0</td>\n",
       "      <td>155.0</td>\n",
       "      <td>3.260</td>\n",
       "      <td>0.553</td>\n",
       "      <td>2280.0</td>\n",
       "      <td>0.000002</td>\n",
       "    </tr>\n",
       "    <tr>\n",
       "      <th>1077</th>\n",
       "      <td>5.56</td>\n",
       "      <td>5.32</td>\n",
       "      <td>9.03</td>\n",
       "      <td>4.16</td>\n",
       "      <td>2.54</td>\n",
       "      <td>5.56</td>\n",
       "      <td>4.63</td>\n",
       "      <td>4.86</td>\n",
       "      <td>0.707</td>\n",
       "      <td>-0.330</td>\n",
       "      <td>...</td>\n",
       "      <td>8.23</td>\n",
       "      <td>1.0</td>\n",
       "      <td>-388.0</td>\n",
       "      <td>-57.50</td>\n",
       "      <td>80.1</td>\n",
       "      <td>166.0</td>\n",
       "      <td>2.210</td>\n",
       "      <td>0.492</td>\n",
       "      <td>8860.0</td>\n",
       "      <td>0.000020</td>\n",
       "    </tr>\n",
       "  </tbody>\n",
       "</table>\n",
       "<p>5 rows × 37 columns</p>\n",
       "</div>"
      ],
      "text/plain": [
       "      ION_ENERGY_FLUX__FOV_1_F  ION_ENERGY_FLUX__FOV_1_R  \\\n",
       "10                        4.40                      6.25   \n",
       "976                       9.49                      8.10   \n",
       "1064                      9.96                      9.72   \n",
       "1070                      6.25                      5.33   \n",
       "1077                      5.56                      5.32   \n",
       "\n",
       "      ION_ENERGY_FLUX__FOV_2_F  ION_ENERGY_FLUX__FOV_2_R  \\\n",
       "10                        7.41                      6.94   \n",
       "976                       8.56                      3.93   \n",
       "1064                      2.78                      3.01   \n",
       "1070                      7.64                      5.56   \n",
       "1077                      9.03                      4.16   \n",
       "\n",
       "      ELECTRON_ENERGY_FLUX___FOV_1_F  ELECTRON_ENERGY_FLUX___FOV_1_R  \\\n",
       "10                              5.10                            2.08   \n",
       "976                             3.24                            3.24   \n",
       "1064                            1.62                            2.32   \n",
       "1070                            4.16                            4.39   \n",
       "1077                            2.54                            5.56   \n",
       "\n",
       "      ELECTRON_ENERGY_FLUX___FOV_2_F  ELECTRON_ENERGY_FLUX___FOV_2_R  \\\n",
       "10                              2.56                            4.40   \n",
       "976                             4.16                            3.24   \n",
       "1064                            3.71                            4.63   \n",
       "1070                            3.71                            6.95   \n",
       "1077                            4.63                            4.86   \n",
       "\n",
       "      LOOK_DIRECTION_1_F_MSO_X  LOOK_DIRECTION_1_F_MSO_Y  ...  \\\n",
       "10                       0.707                     0.331  ...   \n",
       "976                      0.707                    -0.706  ...   \n",
       "1064                     0.707                    -0.332  ...   \n",
       "1070                     0.707                    -0.330  ...   \n",
       "1077                     0.707                    -0.330  ...   \n",
       "\n",
       "      HPLUS_DENSITY_x  HPLUS_DENSITY_QUAL_x  HPLUS_FLOW_VELOCITY_MSO_X  \\\n",
       "10               1.09                   1.0                     -237.0   \n",
       "976              9.95                   1.0                     -489.0   \n",
       "1064             7.95                   1.0                     -378.0   \n",
       "1070            11.50                   1.0                     -396.0   \n",
       "1077             8.23                   1.0                     -388.0   \n",
       "\n",
       "      HPLUS_FLOW_VELOCITY_MSO_Y  HPLUS_FLOW_VELOCITY_MSO_Z  \\\n",
       "10                        27.40                      -47.4   \n",
       "976                       -1.65                      118.0   \n",
       "1064                     -29.80                       81.0   \n",
       "1070                     -41.50                      102.0   \n",
       "1077                     -57.50                       80.1   \n",
       "\n",
       "      HPLUS_TEMPERATURE_x  SOLAR_WIND_DYNAMIC_PRESSURE  ELECTRON_DENSITY  \\\n",
       "10                   53.8                        0.108             0.756   \n",
       "976                 190.0                        4.250             0.309   \n",
       "1064                167.0                        2.020             0.647   \n",
       "1070                155.0                        3.260             0.553   \n",
       "1077                166.0                        2.210             0.492   \n",
       "\n",
       "      ELECTRON_TEMPERATURE  SPACECRAFT_POTENTIAL  \n",
       "10                  4790.0              0.000069  \n",
       "976                 9690.0              1.110000  \n",
       "1064                7890.0              0.433000  \n",
       "1070                2280.0              0.000002  \n",
       "1077                8860.0              0.000020  \n",
       "\n",
       "[5 rows x 37 columns]"
      ]
     },
     "execution_count": 47,
     "metadata": {},
     "output_type": "execute_result"
    }
   ],
   "source": [
    "MAVEN_data_huge.head()"
   ]
  },
  {
   "cell_type": "code",
   "execution_count": 48,
   "metadata": {
    "scrolled": true
   },
   "outputs": [
    {
     "data": {
      "text/plain": [
       "ION_ENERGY_FLUX__FOV_1_F             57832\n",
       "ION_ENERGY_FLUX__FOV_1_R             57832\n",
       "ION_ENERGY_FLUX__FOV_2_F             57832\n",
       "ION_ENERGY_FLUX__FOV_2_R             57832\n",
       "ELECTRON_ENERGY_FLUX___FOV_1_F       57832\n",
       "ELECTRON_ENERGY_FLUX___FOV_1_R       57832\n",
       "ELECTRON_ENERGY_FLUX___FOV_2_F       57832\n",
       "ELECTRON_ENERGY_FLUX___FOV_2_R       57832\n",
       "LOOK_DIRECTION_1_F_MSO_X             57832\n",
       "LOOK_DIRECTION_1_F_MSO_Y             57832\n",
       "LOOK_DIRECTION_1_F_MSO_Z             57832\n",
       "LOOK_DIRECTION_1_R_MSO_X             57832\n",
       "LOOK_DIRECTION_1_R_MSO_Y             57832\n",
       "LOOK_DIRECTION_1_R_MSO_Z             57832\n",
       "LOOK_DIRECTION_2_F_MSO_X             57832\n",
       "LOOK_DIRECTION_2_F_MSO_Y             57832\n",
       "LOOK_DIRECTION_2_F_MSO_Z             57832\n",
       "LOOK_DIRECTION_2_R_MSO_X             57832\n",
       "LOOK_DIRECTION_2_R_MSO_Y             57832\n",
       "LOOK_DIRECTION_2_R_MSO_Z             57832\n",
       "SOLAR_WIND_ELECTRON_DENSITY          57832\n",
       "SOLAR_WIND_ELECTRON_TEMPERATURE      57832\n",
       "ELECTRON_PARALLEL_FLUX_LOW           57832\n",
       "ELECTRON_PARALLEL_FLUX_MID           57832\n",
       "ELECTRON_ANTI_PARALLEL_FLUX_LOW      57832\n",
       "ELECTRON_ANTI_PARALLEL_FLUX_MID      57832\n",
       "ELECTRON_SPECTRUM_SHAPE_PARAMETER    57832\n",
       "HPLUS_DENSITY_x                      57832\n",
       "HPLUS_DENSITY_QUAL_x                 57832\n",
       "HPLUS_FLOW_VELOCITY_MSO_X            57832\n",
       "HPLUS_FLOW_VELOCITY_MSO_Y            57832\n",
       "HPLUS_FLOW_VELOCITY_MSO_Z            57832\n",
       "HPLUS_TEMPERATURE_x                  57832\n",
       "SOLAR_WIND_DYNAMIC_PRESSURE          57832\n",
       "ELECTRON_DENSITY                     57832\n",
       "ELECTRON_TEMPERATURE                 57832\n",
       "SPACECRAFT_POTENTIAL                 57832\n",
       "dtype: int64"
      ]
     },
     "execution_count": 48,
     "metadata": {},
     "output_type": "execute_result"
    }
   ],
   "source": [
    "MAVEN_data_huge.count()"
   ]
  },
  {
   "cell_type": "code",
   "execution_count": 32,
   "metadata": {},
   "outputs": [],
   "source": [
    "# eliminating some columns/variables\n",
    "MAVEN_data = MAVEN_data_huge.drop(['LOOK_DIRECTION_1_F_MSO_X',\n",
    "                                     'LOOK_DIRECTION_1_F_MSO_Y',\n",
    "                                     'LOOK_DIRECTION_1_F_MSO_Z',\n",
    "                                     'LOOK_DIRECTION_1_R_MSO_X',\n",
    "                                     'LOOK_DIRECTION_1_R_MSO_Y',\n",
    "                                     'LOOK_DIRECTION_1_R_MSO_Z',\n",
    "                                     'LOOK_DIRECTION_2_F_MSO_X',\n",
    "                                     'LOOK_DIRECTION_2_F_MSO_Y',\n",
    "                                     'LOOK_DIRECTION_2_F_MSO_Z',\n",
    "                                     'LOOK_DIRECTION_2_R_MSO_X',\n",
    "                                     'LOOK_DIRECTION_2_R_MSO_Y',\n",
    "                                     'LOOK_DIRECTION_2_R_MSO_Z',\n",
    "                                     'HPLUS_DENSITY_QUAL_x',\n",
    "                                     'HPLUS_FLOW_VELOCITY_MSO_X',\n",
    "                                     'HPLUS_FLOW_VELOCITY_MSO_Y',\n",
    "                                     'HPLUS_FLOW_VELOCITY_MSO_X'],\n",
    "                                    axis='columns',\n",
    "                                    inplace=False)"
   ]
  },
  {
   "cell_type": "code",
   "execution_count": 52,
   "metadata": {},
   "outputs": [],
   "source": [
    "MAVEN_data = MAVEN_data_huge.iloc[:,20:]"
   ]
  },
  {
   "cell_type": "code",
   "execution_count": 53,
   "metadata": {
    "scrolled": false
   },
   "outputs": [
    {
     "data": {
      "text/html": [
       "<div>\n",
       "<style scoped>\n",
       "    .dataframe tbody tr th:only-of-type {\n",
       "        vertical-align: middle;\n",
       "    }\n",
       "\n",
       "    .dataframe tbody tr th {\n",
       "        vertical-align: top;\n",
       "    }\n",
       "\n",
       "    .dataframe thead th {\n",
       "        text-align: right;\n",
       "    }\n",
       "</style>\n",
       "<table border=\"1\" class=\"dataframe\">\n",
       "  <thead>\n",
       "    <tr style=\"text-align: right;\">\n",
       "      <th></th>\n",
       "      <th>SOLAR_WIND_ELECTRON_DENSITY</th>\n",
       "      <th>SOLAR_WIND_ELECTRON_TEMPERATURE</th>\n",
       "      <th>ELECTRON_PARALLEL_FLUX_LOW</th>\n",
       "      <th>ELECTRON_PARALLEL_FLUX_MID</th>\n",
       "      <th>ELECTRON_ANTI_PARALLEL_FLUX_LOW</th>\n",
       "      <th>ELECTRON_ANTI_PARALLEL_FLUX_MID</th>\n",
       "      <th>ELECTRON_SPECTRUM_SHAPE_PARAMETER</th>\n",
       "      <th>HPLUS_DENSITY_x</th>\n",
       "      <th>HPLUS_DENSITY_QUAL_x</th>\n",
       "      <th>HPLUS_FLOW_VELOCITY_MSO_X</th>\n",
       "      <th>HPLUS_FLOW_VELOCITY_MSO_Y</th>\n",
       "      <th>HPLUS_FLOW_VELOCITY_MSO_Z</th>\n",
       "      <th>HPLUS_TEMPERATURE_x</th>\n",
       "      <th>SOLAR_WIND_DYNAMIC_PRESSURE</th>\n",
       "      <th>ELECTRON_DENSITY</th>\n",
       "      <th>ELECTRON_TEMPERATURE</th>\n",
       "      <th>SPACECRAFT_POTENTIAL</th>\n",
       "    </tr>\n",
       "  </thead>\n",
       "  <tbody>\n",
       "    <tr>\n",
       "      <th>10</th>\n",
       "      <td>15.7</td>\n",
       "      <td>27.0</td>\n",
       "      <td>104000000.0</td>\n",
       "      <td>71400000.0</td>\n",
       "      <td>96000000.0</td>\n",
       "      <td>62000000.0</td>\n",
       "      <td>4.235</td>\n",
       "      <td>1.09</td>\n",
       "      <td>1.0</td>\n",
       "      <td>-237.0</td>\n",
       "      <td>27.40</td>\n",
       "      <td>-47.4</td>\n",
       "      <td>53.8</td>\n",
       "      <td>0.108</td>\n",
       "      <td>0.756</td>\n",
       "      <td>4790.0</td>\n",
       "      <td>0.000069</td>\n",
       "    </tr>\n",
       "    <tr>\n",
       "      <th>976</th>\n",
       "      <td>12.8</td>\n",
       "      <td>14.3</td>\n",
       "      <td>116000000.0</td>\n",
       "      <td>4050000.0</td>\n",
       "      <td>98800000.0</td>\n",
       "      <td>3850000.0</td>\n",
       "      <td>3.608</td>\n",
       "      <td>9.95</td>\n",
       "      <td>1.0</td>\n",
       "      <td>-489.0</td>\n",
       "      <td>-1.65</td>\n",
       "      <td>118.0</td>\n",
       "      <td>190.0</td>\n",
       "      <td>4.250</td>\n",
       "      <td>0.309</td>\n",
       "      <td>9690.0</td>\n",
       "      <td>1.110000</td>\n",
       "    </tr>\n",
       "    <tr>\n",
       "      <th>1064</th>\n",
       "      <td>13.3</td>\n",
       "      <td>14.7</td>\n",
       "      <td>94900000.0</td>\n",
       "      <td>2240000.0</td>\n",
       "      <td>113000000.0</td>\n",
       "      <td>5430000.0</td>\n",
       "      <td>3.921</td>\n",
       "      <td>7.95</td>\n",
       "      <td>1.0</td>\n",
       "      <td>-378.0</td>\n",
       "      <td>-29.80</td>\n",
       "      <td>81.0</td>\n",
       "      <td>167.0</td>\n",
       "      <td>2.020</td>\n",
       "      <td>0.647</td>\n",
       "      <td>7890.0</td>\n",
       "      <td>0.433000</td>\n",
       "    </tr>\n",
       "    <tr>\n",
       "      <th>1070</th>\n",
       "      <td>19.4</td>\n",
       "      <td>15.6</td>\n",
       "      <td>126000000.0</td>\n",
       "      <td>5690000.0</td>\n",
       "      <td>145000000.0</td>\n",
       "      <td>6850000.0</td>\n",
       "      <td>3.822</td>\n",
       "      <td>11.50</td>\n",
       "      <td>1.0</td>\n",
       "      <td>-396.0</td>\n",
       "      <td>-41.50</td>\n",
       "      <td>102.0</td>\n",
       "      <td>155.0</td>\n",
       "      <td>3.260</td>\n",
       "      <td>0.553</td>\n",
       "      <td>2280.0</td>\n",
       "      <td>0.000002</td>\n",
       "    </tr>\n",
       "    <tr>\n",
       "      <th>1077</th>\n",
       "      <td>15.1</td>\n",
       "      <td>16.3</td>\n",
       "      <td>106000000.0</td>\n",
       "      <td>4590000.0</td>\n",
       "      <td>137000000.0</td>\n",
       "      <td>14400000.0</td>\n",
       "      <td>3.854</td>\n",
       "      <td>8.23</td>\n",
       "      <td>1.0</td>\n",
       "      <td>-388.0</td>\n",
       "      <td>-57.50</td>\n",
       "      <td>80.1</td>\n",
       "      <td>166.0</td>\n",
       "      <td>2.210</td>\n",
       "      <td>0.492</td>\n",
       "      <td>8860.0</td>\n",
       "      <td>0.000020</td>\n",
       "    </tr>\n",
       "  </tbody>\n",
       "</table>\n",
       "</div>"
      ],
      "text/plain": [
       "      SOLAR_WIND_ELECTRON_DENSITY  SOLAR_WIND_ELECTRON_TEMPERATURE  \\\n",
       "10                           15.7                             27.0   \n",
       "976                          12.8                             14.3   \n",
       "1064                         13.3                             14.7   \n",
       "1070                         19.4                             15.6   \n",
       "1077                         15.1                             16.3   \n",
       "\n",
       "      ELECTRON_PARALLEL_FLUX_LOW  ELECTRON_PARALLEL_FLUX_MID  \\\n",
       "10                   104000000.0                  71400000.0   \n",
       "976                  116000000.0                   4050000.0   \n",
       "1064                  94900000.0                   2240000.0   \n",
       "1070                 126000000.0                   5690000.0   \n",
       "1077                 106000000.0                   4590000.0   \n",
       "\n",
       "      ELECTRON_ANTI_PARALLEL_FLUX_LOW  ELECTRON_ANTI_PARALLEL_FLUX_MID  \\\n",
       "10                         96000000.0                       62000000.0   \n",
       "976                        98800000.0                        3850000.0   \n",
       "1064                      113000000.0                        5430000.0   \n",
       "1070                      145000000.0                        6850000.0   \n",
       "1077                      137000000.0                       14400000.0   \n",
       "\n",
       "      ELECTRON_SPECTRUM_SHAPE_PARAMETER  HPLUS_DENSITY_x  \\\n",
       "10                                4.235             1.09   \n",
       "976                               3.608             9.95   \n",
       "1064                              3.921             7.95   \n",
       "1070                              3.822            11.50   \n",
       "1077                              3.854             8.23   \n",
       "\n",
       "      HPLUS_DENSITY_QUAL_x  HPLUS_FLOW_VELOCITY_MSO_X  \\\n",
       "10                     1.0                     -237.0   \n",
       "976                    1.0                     -489.0   \n",
       "1064                   1.0                     -378.0   \n",
       "1070                   1.0                     -396.0   \n",
       "1077                   1.0                     -388.0   \n",
       "\n",
       "      HPLUS_FLOW_VELOCITY_MSO_Y  HPLUS_FLOW_VELOCITY_MSO_Z  \\\n",
       "10                        27.40                      -47.4   \n",
       "976                       -1.65                      118.0   \n",
       "1064                     -29.80                       81.0   \n",
       "1070                     -41.50                      102.0   \n",
       "1077                     -57.50                       80.1   \n",
       "\n",
       "      HPLUS_TEMPERATURE_x  SOLAR_WIND_DYNAMIC_PRESSURE  ELECTRON_DENSITY  \\\n",
       "10                   53.8                        0.108             0.756   \n",
       "976                 190.0                        4.250             0.309   \n",
       "1064                167.0                        2.020             0.647   \n",
       "1070                155.0                        3.260             0.553   \n",
       "1077                166.0                        2.210             0.492   \n",
       "\n",
       "      ELECTRON_TEMPERATURE  SPACECRAFT_POTENTIAL  \n",
       "10                  4790.0              0.000069  \n",
       "976                 9690.0              1.110000  \n",
       "1064                7890.0              0.433000  \n",
       "1070                2280.0              0.000002  \n",
       "1077                8860.0              0.000020  "
      ]
     },
     "execution_count": 53,
     "metadata": {},
     "output_type": "execute_result"
    }
   ],
   "source": [
    "MAVEN_data.head()"
   ]
  },
  {
   "cell_type": "code",
   "execution_count": 61,
   "metadata": {
    "scrolled": true
   },
   "outputs": [
    {
     "data": {
      "text/plain": [
       "SOLAR_WIND_ELECTRON_DENSITY        0\n",
       "SOLAR_WIND_ELECTRON_TEMPERATURE    0\n",
       "ELECTRON_PARALLEL_FLUX_LOW         0\n",
       "ELECTRON_ANTI_PARALLEL_FLUX_LOW    0\n",
       "HPLUS_DENSITY_x                    0\n",
       "HPLUS_TEMPERATURE_x                0\n",
       "SOLAR_WIND_DYNAMIC_PRESSURE        0\n",
       "ELECTRON_DENSITY                   0\n",
       "ELECTRON_TEMPERATURE               0\n",
       "SPACECRAFT_POTENTIAL               0\n",
       "dtype: int64"
      ]
     },
     "execution_count": 61,
     "metadata": {},
     "output_type": "execute_result"
    }
   ],
   "source": [
    "MAVEN_data.isnull().sum()"
   ]
  },
  {
   "cell_type": "code",
   "execution_count": 60,
   "metadata": {},
   "outputs": [
    {
     "name": "stderr",
     "output_type": "stream",
     "text": [
      "/opt/anaconda3/lib/python3.7/site-packages/pandas/core/frame.py:3997: SettingWithCopyWarning: \n",
      "A value is trying to be set on a copy of a slice from a DataFrame\n",
      "\n",
      "See the caveats in the documentation: https://pandas.pydata.org/pandas-docs/stable/user_guide/indexing.html#returning-a-view-versus-a-copy\n",
      "  errors=errors,\n"
     ]
    }
   ],
   "source": [
    "MAVEN_data.drop(['ELECTRON_SPECTRUM_SHAPE_PARAMETER',\n",
    "                                     'ELECTRON_ANTI_PARALLEL_FLUX_MID',\n",
    "                                     'ELECTRON_PARALLEL_FLUX_MID',\n",
    "                                     ],\n",
    "                                    axis='columns',\n",
    "                                    inplace=True)"
   ]
  },
  {
   "cell_type": "markdown",
   "metadata": {},
   "source": [
    "## Training the SOM on the dataset"
   ]
  },
  {
   "cell_type": "markdown",
   "metadata": {},
   "source": [
    "We have to set the size of the SOM to be [row,col], but we will do that using a prescribed 'Optimal Map Size' according to theory. Set the other SOM parameters in the argument.\n",
    "\n",
    "As the data is relatively high, the model takes some time to train. We didn't finetune the hyperparameters of the algorithm and this is a potential improvement topic."
   ]
  },
  {
   "cell_type": "markdown",
   "metadata": {},
   "source": [
    "Calculate the theorerical optimal map size of the SOM model. You need to specify as argument the lattice type ('rect' or 'hex')."
   ]
  },
  {
   "cell_type": "code",
   "execution_count": 62,
   "metadata": {},
   "outputs": [
    {
     "name": "stdout",
     "output_type": "stream",
     "text": [
      "Optimal Map Size (row, column):[14, 86]\n"
     ]
    }
   ],
   "source": [
    "map_size = sompy.SOMFactory().build(MAVEN_data.values).calculate_map_size('rect')\n",
    "print(\"Optimal Map Size (row, column):\" + str(map_size))"
   ]
  },
  {
   "cell_type": "markdown",
   "metadata": {},
   "source": [
    "Train the SOM model. The map size calculated above is automtically used in the training:"
   ]
  },
  {
   "cell_type": "code",
   "execution_count": 63,
   "metadata": {
    "scrolled": true
   },
   "outputs": [
    {
     "name": "stderr",
     "output_type": "stream",
     "text": [
      " Training...\n",
      " random_initialization took: 0.002000 seconds\n",
      " Rough training...\n",
      " radius_ini: 29.000000 , radius_final: 4.833333, trainlen: 5\n",
      "\n",
      " epoch: 1 ---> elapsed time:  1.540000, quantization error: 14.843574\n",
      "\n",
      " epoch: 2 ---> elapsed time:  1.525000, quantization error: 2.596818\n",
      "\n",
      " epoch: 3 ---> elapsed time:  1.434000, quantization error: 2.138170\n",
      "\n",
      " epoch: 4 ---> elapsed time:  1.437000, quantization error: 1.897305\n",
      "\n",
      " epoch: 5 ---> elapsed time:  1.530000, quantization error: 1.711163\n",
      "\n",
      " Finetune training...\n",
      " radius_ini: 7.166667 , radius_final: 1.000000, trainlen: 10\n",
      "\n",
      " epoch: 1 ---> elapsed time:  1.427000, quantization error: 1.335085\n",
      "\n",
      " epoch: 2 ---> elapsed time:  1.426000, quantization error: 1.471970\n",
      "\n",
      " epoch: 3 ---> elapsed time:  1.443000, quantization error: 1.393734\n",
      "\n",
      " epoch: 4 ---> elapsed time:  1.637000, quantization error: 1.327791\n",
      "\n",
      " epoch: 5 ---> elapsed time:  1.431000, quantization error: 1.259165\n",
      "\n",
      " epoch: 6 ---> elapsed time:  1.420000, quantization error: 1.186864\n",
      "\n",
      " epoch: 7 ---> elapsed time:  1.618000, quantization error: 1.112008\n",
      "\n",
      " epoch: 8 ---> elapsed time:  1.430000, quantization error: 1.034578\n",
      "\n",
      " epoch: 9 ---> elapsed time:  1.419000, quantization error: 0.955369\n",
      "\n",
      " epoch: 10 ---> elapsed time:  1.535000, quantization error: 0.869939\n",
      "\n",
      " Final quantization error: 0.869939\n",
      " train took: 22.308000 seconds\n"
     ]
    },
    {
     "name": "stdout",
     "output_type": "stream",
     "text": [
      "CPU times: user 38.6 s, sys: 3.09 s, total: 41.7 s\n",
      "Wall time: 22.4 s\n"
     ]
    }
   ],
   "source": [
    "%%time\n",
    "# Train the model with different parameters. \n",
    "# The more, the better. \n",
    "\n",
    "som = sompy.SOMFactory().build(MAVEN_data.values, \n",
    "                                   mapsize=map_size,\n",
    "                                   normalization = 'var', \n",
    "                                   initialization='random', \n",
    "                                   #component_names=component_names, \n",
    "                                   lattice='rect')\n",
    "som.train(n_job=1, train_rough_len=5, train_finetune_len=10) # change the number of iteration of rouhg_len and finetune _len"
   ]
  },
  {
   "cell_type": "markdown",
   "metadata": {},
   "source": [
    "Calculate the SOM model Topographic error and Quantization error:"
   ]
  },
  {
   "cell_type": "code",
   "execution_count": 64,
   "metadata": {},
   "outputs": [
    {
     "name": "stdout",
     "output_type": "stream",
     "text": [
      "Topographic error = 0.0\n",
      " Quantization error = 0.17860731486850615\n"
     ]
    }
   ],
   "source": [
    "topographic_error = som.calculate_topographic_error()\n",
    "quantization_error = som.calculate_quantization_error()\n",
    "print (\"Topographic error = %s\\n Quantization error = %s\" % (topographic_error, quantization_error))"
   ]
  },
  {
   "cell_type": "markdown",
   "metadata": {},
   "source": [
    "## Results "
   ]
  },
  {
   "cell_type": "markdown",
   "metadata": {},
   "source": [
    "### Components plane "
   ]
  },
  {
   "cell_type": "markdown",
   "metadata": {},
   "source": [
    "The components map shows the values of the variables for each prototype and allows us to extract conclusions consisting of non-linear patterns between variables. We have represented 2 types of components maps.\n",
    "- The **prototypes visualization**: it shows the patterns learned by the neural network which are used to determine de winning neuron of each training instance\n",
    "- The **real visualization** with exogeneous variables: it shows the real average value of the components of each lattice element. This visualization should be used with 2 purposes: (i) compare it with the prototypes visualization to assess how good is the prototypes modeling and (ii) to add other exogeneous variables (those which have not been used to build the self organizing map) in order to study their relation with the endogeneous variables.\n",
    "\n",
    "If the quantization error is not very high and a proper visual assessment has been done assuring that the prototypes and real visualizations look very alike, the prototypes visualization can be used as a final product, since it is much visual appealing."
   ]
  },
  {
   "cell_type": "markdown",
   "metadata": {},
   "source": [
    "#### Prototypes component plane"
   ]
  },
  {
   "cell_type": "code",
   "execution_count": 65,
   "metadata": {
    "scrolled": true
   },
   "outputs": [
    {
     "data": {
      "image/png": "[encoded data removed]",
      "text/plain": [
       "<Figure size 1152x140.651 with 20 Axes>"
      ]
     },
     "metadata": {},
     "output_type": "display_data"
    }
   ],
   "source": [
    "from sompy.visualization.mapview import View2D\n",
    "view2D  = View2D(10,10,\"\", text_size=7)\n",
    "view2D.show(som, col_sz=4, which_dim=\"all\", cmap='jet', denormalize=True)\n",
    "plt.show()"
   ]
  },
  {
   "cell_type": "markdown",
   "metadata": {},
   "source": [
    "Showing selected components. Select components by specifying the index in 'which_dim=[...]' argument."
   ]
  },
  {
   "cell_type": "code",
   "execution_count": 67,
   "metadata": {},
   "outputs": [
    {
     "data": {
      "image/png": "[encoded data removed]",
      "text/plain": [
       "<Figure size 1152x375.07 with 4 Axes>"
      ]
     },
     "metadata": {},
     "output_type": "display_data"
    }
   ],
   "source": [
    "from sompy.visualization.mapview import View2D\n",
    "view2D  = View2D(10,10,\"\", text_size=7)\n",
    "view2D.show(som, col_sz=1, which_dim=[3,5], cmap='viridis', denormalize=True)\n",
    "plt.show()"
   ]
  },
  {
   "cell_type": "markdown",
   "metadata": {},
   "source": [
    "### Hits-map "
   ]
  },
  {
   "cell_type": "markdown",
   "metadata": {},
   "source": [
    "This visualization is very important because it shows how the instances/observations/rawd ata are spreaded across the SOM lattice. The more instances lay into a cell, the more instances it is representing and hence the more we have to take it into acount."
   ]
  },
  {
   "cell_type": "code",
   "execution_count": 68,
   "metadata": {
    "scrolled": true
   },
   "outputs": [
    {
     "data": {
      "image/png": "[encoded data removed]",
      "text/plain": [
       "<Figure size 2232x187.535 with 2 Axes>"
      ]
     },
     "metadata": {},
     "output_type": "display_data"
    }
   ],
   "source": [
    "from sompy.visualization.bmuhits import BmuHitsView\n",
    "#sm.codebook.lattice=\"rect\"\n",
    "vhts  = BmuHitsView(31,59,\"Hits Map\",text_size=7)\n",
    "vhts.show(som, anotate=True, onlyzeros=False, labelsize=7, cmap=\"autumn\", logaritmic=False)\n",
    "plt.show()"
   ]
  },
  {
   "cell_type": "markdown",
   "metadata": {},
   "source": [
    "### Clustering "
   ]
  },
  {
   "cell_type": "markdown",
   "metadata": {},
   "source": [
    "This visualization helps us to focus on the groups which share similar characteristics"
   ]
  },
  {
   "cell_type": "code",
   "execution_count": 69,
   "metadata": {
    "scrolled": true
   },
   "outputs": [
    {
     "name": "stderr",
     "output_type": "stream",
     "text": [
      "/opt/anaconda3/lib/python3.7/site-packages/sompy/visualization/hitmap.py:37: MatplotlibDeprecationWarning: Adding an axes using the same arguments as a previous axes currently reuses the earlier instance.  In a future version, a new instance will always be created and returned.  Meanwhile, this warning can be suppressed, and the future behavior ensured, by passing a unique label to each axes instance.\n",
      "  ax = self._fig.add_subplot(111)\n"
     ]
    },
    {
     "data": {
      "image/png": "[encoded data removed]",
      "text/plain": [
       "<Figure size 2160x187.535 with 1 Axes>"
      ]
     },
     "metadata": {},
     "output_type": "display_data"
    }
   ],
   "source": [
    "from sompy.visualization.hitmap import HitMapView\n",
    "som.cluster(4)\n",
    "map_labels=som.cluster(4)\n",
    "\n",
    "hits  = HitMapView(30, 59,\"Clustering\",text_size=10, cmap=plt.cm.jet)\n",
    "a=hits.show(som, anotate=True, onlyzeros=False, labelsize=7, cmap=\"Pastel1\")\n",
    "plt.show()"
   ]
  },
  {
   "cell_type": "markdown",
   "metadata": {},
   "source": [
    "Render the U-matrix of the SOM:"
   ]
  },
  {
   "cell_type": "code",
   "execution_count": 70,
   "metadata": {
    "scrolled": true
   },
   "outputs": [
    {
     "data": {
      "image/png": "[encoded data removed]",
      "text/plain": [
       "<Figure size 928.8x151.2 with 1 Axes>"
      ]
     },
     "metadata": {
      "needs_background": "light"
     },
     "output_type": "display_data"
    }
   ],
   "source": [
    "u = sompy.umatrix.UMatrixView(30, 59, 'umatrix', show_axis=True, text_size=8, show_text=True)\n",
    "\n",
    "#This is the Umat value\n",
    "UMAT  = u.build_u_matrix(som, distance=1, row_normalized=False)\n",
    "\n",
    "#Here you have Umatrix plus its render\n",
    "UMAT = u.show(som, distance2=1, row_normalized=False, show_data=True, contooor=True, blob=False)\n"
   ]
  },
  {
   "cell_type": "markdown",
   "metadata": {},
   "source": [
    "Retrieveing the clustered data:"
   ]
  },
  {
   "cell_type": "code",
   "execution_count": 71,
   "metadata": {},
   "outputs": [
    {
     "name": "stderr",
     "output_type": "stream",
     "text": [
      "/opt/anaconda3/lib/python3.7/site-packages/ipykernel_launcher.py:8: SettingWithCopyWarning: \n",
      "A value is trying to be set on a copy of a slice from a DataFrame.\n",
      "Try using .loc[row_indexer,col_indexer] = value instead\n",
      "\n",
      "See the caveats in the documentation: https://pandas.pydata.org/pandas-docs/stable/user_guide/indexing.html#returning-a-view-versus-a-copy\n",
      "  \n"
     ]
    },
    {
     "data": {
      "text/plain": [
       "SOLAR_WIND_ELECTRON_DENSITY        float64\n",
       "SOLAR_WIND_ELECTRON_TEMPERATURE    float64\n",
       "ELECTRON_PARALLEL_FLUX_LOW         float64\n",
       "ELECTRON_ANTI_PARALLEL_FLUX_LOW    float64\n",
       "HPLUS_DENSITY_x                    float64\n",
       "HPLUS_TEMPERATURE_x                float64\n",
       "SOLAR_WIND_DYNAMIC_PRESSURE        float64\n",
       "ELECTRON_DENSITY                   float64\n",
       "ELECTRON_TEMPERATURE               float64\n",
       "SPACECRAFT_POTENTIAL               float64\n",
       "BMU                                  int64\n",
       "dtype: object"
      ]
     },
     "execution_count": 71,
     "metadata": {},
     "output_type": "execute_result"
    }
   ],
   "source": [
    "## Create a new dataframe of the Raw Data to add the BMU and Cluester to\n",
    "\n",
    "MAVEN_data_SOM = MAVEN_data\n",
    "\n",
    "## Retrieve the BMUs of each Raw Data\n",
    "\n",
    "BMU=som._bmu[0]\n",
    "MAVEN_data_SOM['BMU']=BMU\n",
    "MAVEN_data_SOM.astype({'BMU': 'int64'}).dtypes\n",
    "\n",
    "#MAVEN_data_SOM.dtypes"
   ]
  },
  {
   "cell_type": "code",
   "execution_count": 72,
   "metadata": {
    "scrolled": false
   },
   "outputs": [],
   "source": [
    "## Creating a dictionary to relate Raw Data BMU to Cluster of the BMU:\n",
    "keys_bmu = list(pd.Series(range(0,len(map_labels))))\n",
    "values_clust =  list(map_labels)\n",
    "bmu_clust = {keys_bmu[i]: values_clust[i] for i in range(len(keys_bmu))}\n",
    "#print(len(keys_bmu))\n",
    "#print(len(bmu_clust))\n",
    "#print(len(values_clust))\n",
    "#print(bmu_clust) #uncomment this to check the resulting dicitonary"
   ]
  },
  {
   "cell_type": "markdown",
   "metadata": {},
   "source": [
    "Map the Cluster to the Raw Data using the BMU-Cluster dictionary above:"
   ]
  },
  {
   "cell_type": "code",
   "execution_count": 73,
   "metadata": {
    "scrolled": true
   },
   "outputs": [
    {
     "name": "stderr",
     "output_type": "stream",
     "text": [
      "/opt/anaconda3/lib/python3.7/site-packages/ipykernel_launcher.py:1: SettingWithCopyWarning: \n",
      "A value is trying to be set on a copy of a slice from a DataFrame.\n",
      "Try using .loc[row_indexer,col_indexer] = value instead\n",
      "\n",
      "See the caveats in the documentation: https://pandas.pydata.org/pandas-docs/stable/user_guide/indexing.html#returning-a-view-versus-a-copy\n",
      "  \"\"\"Entry point for launching an IPython kernel.\n",
      "/opt/anaconda3/lib/python3.7/site-packages/ipykernel_launcher.py:2: SettingWithCopyWarning: \n",
      "A value is trying to be set on a copy of a slice from a DataFrame.\n",
      "Try using .loc[row_indexer,col_indexer] = value instead\n",
      "\n",
      "See the caveats in the documentation: https://pandas.pydata.org/pandas-docs/stable/user_guide/indexing.html#returning-a-view-versus-a-copy\n",
      "  \n"
     ]
    },
    {
     "data": {
      "text/html": [
       "<div>\n",
       "<style scoped>\n",
       "    .dataframe tbody tr th:only-of-type {\n",
       "        vertical-align: middle;\n",
       "    }\n",
       "\n",
       "    .dataframe tbody tr th {\n",
       "        vertical-align: top;\n",
       "    }\n",
       "\n",
       "    .dataframe thead th {\n",
       "        text-align: right;\n",
       "    }\n",
       "</style>\n",
       "<table border=\"1\" class=\"dataframe\">\n",
       "  <thead>\n",
       "    <tr style=\"text-align: right;\">\n",
       "      <th></th>\n",
       "      <th>SOLAR_WIND_ELECTRON_DENSITY</th>\n",
       "      <th>SOLAR_WIND_ELECTRON_TEMPERATURE</th>\n",
       "      <th>ELECTRON_PARALLEL_FLUX_LOW</th>\n",
       "      <th>ELECTRON_ANTI_PARALLEL_FLUX_LOW</th>\n",
       "      <th>HPLUS_DENSITY_x</th>\n",
       "      <th>HPLUS_TEMPERATURE_x</th>\n",
       "      <th>SOLAR_WIND_DYNAMIC_PRESSURE</th>\n",
       "      <th>ELECTRON_DENSITY</th>\n",
       "      <th>ELECTRON_TEMPERATURE</th>\n",
       "      <th>SPACECRAFT_POTENTIAL</th>\n",
       "      <th>BMU</th>\n",
       "      <th>Cluster</th>\n",
       "    </tr>\n",
       "  </thead>\n",
       "  <tbody>\n",
       "    <tr>\n",
       "      <th>10</th>\n",
       "      <td>15.7</td>\n",
       "      <td>27.0</td>\n",
       "      <td>104000000.0</td>\n",
       "      <td>96000000.0</td>\n",
       "      <td>1.09</td>\n",
       "      <td>53.8</td>\n",
       "      <td>0.108</td>\n",
       "      <td>0.756</td>\n",
       "      <td>4790.0</td>\n",
       "      <td>0.000069</td>\n",
       "      <td>1194.0</td>\n",
       "      <td>0</td>\n",
       "    </tr>\n",
       "    <tr>\n",
       "      <th>976</th>\n",
       "      <td>12.8</td>\n",
       "      <td>14.3</td>\n",
       "      <td>116000000.0</td>\n",
       "      <td>98800000.0</td>\n",
       "      <td>9.95</td>\n",
       "      <td>190.0</td>\n",
       "      <td>4.250</td>\n",
       "      <td>0.309</td>\n",
       "      <td>9690.0</td>\n",
       "      <td>1.110000</td>\n",
       "      <td>75.0</td>\n",
       "      <td>0</td>\n",
       "    </tr>\n",
       "    <tr>\n",
       "      <th>1064</th>\n",
       "      <td>13.3</td>\n",
       "      <td>14.7</td>\n",
       "      <td>94900000.0</td>\n",
       "      <td>113000000.0</td>\n",
       "      <td>7.95</td>\n",
       "      <td>167.0</td>\n",
       "      <td>2.020</td>\n",
       "      <td>0.647</td>\n",
       "      <td>7890.0</td>\n",
       "      <td>0.433000</td>\n",
       "      <td>830.0</td>\n",
       "      <td>0</td>\n",
       "    </tr>\n",
       "    <tr>\n",
       "      <th>1070</th>\n",
       "      <td>19.4</td>\n",
       "      <td>15.6</td>\n",
       "      <td>126000000.0</td>\n",
       "      <td>145000000.0</td>\n",
       "      <td>11.50</td>\n",
       "      <td>155.0</td>\n",
       "      <td>3.260</td>\n",
       "      <td>0.553</td>\n",
       "      <td>2280.0</td>\n",
       "      <td>0.000002</td>\n",
       "      <td>249.0</td>\n",
       "      <td>0</td>\n",
       "    </tr>\n",
       "    <tr>\n",
       "      <th>1077</th>\n",
       "      <td>15.1</td>\n",
       "      <td>16.3</td>\n",
       "      <td>106000000.0</td>\n",
       "      <td>137000000.0</td>\n",
       "      <td>8.23</td>\n",
       "      <td>166.0</td>\n",
       "      <td>2.210</td>\n",
       "      <td>0.492</td>\n",
       "      <td>8860.0</td>\n",
       "      <td>0.000020</td>\n",
       "      <td>418.0</td>\n",
       "      <td>0</td>\n",
       "    </tr>\n",
       "  </tbody>\n",
       "</table>\n",
       "</div>"
      ],
      "text/plain": [
       "      SOLAR_WIND_ELECTRON_DENSITY  SOLAR_WIND_ELECTRON_TEMPERATURE  \\\n",
       "10                           15.7                             27.0   \n",
       "976                          12.8                             14.3   \n",
       "1064                         13.3                             14.7   \n",
       "1070                         19.4                             15.6   \n",
       "1077                         15.1                             16.3   \n",
       "\n",
       "      ELECTRON_PARALLEL_FLUX_LOW  ELECTRON_ANTI_PARALLEL_FLUX_LOW  \\\n",
       "10                   104000000.0                       96000000.0   \n",
       "976                  116000000.0                       98800000.0   \n",
       "1064                  94900000.0                      113000000.0   \n",
       "1070                 126000000.0                      145000000.0   \n",
       "1077                 106000000.0                      137000000.0   \n",
       "\n",
       "      HPLUS_DENSITY_x  HPLUS_TEMPERATURE_x  SOLAR_WIND_DYNAMIC_PRESSURE  \\\n",
       "10               1.09                 53.8                        0.108   \n",
       "976              9.95                190.0                        4.250   \n",
       "1064             7.95                167.0                        2.020   \n",
       "1070            11.50                155.0                        3.260   \n",
       "1077             8.23                166.0                        2.210   \n",
       "\n",
       "      ELECTRON_DENSITY  ELECTRON_TEMPERATURE  SPACECRAFT_POTENTIAL     BMU  \\\n",
       "10               0.756                4790.0              0.000069  1194.0   \n",
       "976              0.309                9690.0              1.110000    75.0   \n",
       "1064             0.647                7890.0              0.433000   830.0   \n",
       "1070             0.553                2280.0              0.000002   249.0   \n",
       "1077             0.492                8860.0              0.000020   418.0   \n",
       "\n",
       "      Cluster  \n",
       "10          0  \n",
       "976         0  \n",
       "1064        0  \n",
       "1070        0  \n",
       "1077        0  "
      ]
     },
     "execution_count": 73,
     "metadata": {},
     "output_type": "execute_result"
    }
   ],
   "source": [
    "MAVEN_data_SOM['Cluster']=\"\"\n",
    "MAVEN_data_SOM['Cluster']=MAVEN_data_SOM['BMU'].map(bmu_clust)\n",
    "\n",
    "MAVEN_data_SOM.head() #uncomment to check the resulting dataframe"
   ]
  },
  {
   "cell_type": "markdown",
   "metadata": {},
   "source": [
    "Also, check the concept of assigning 'clustering variables' before SOM training. The Air Flight data seems to have used 'clustering variables' before SOM training. Check this paper (already downloaded): https://ieeexplore.ieee.org/document/1199016"
   ]
  },
  {
   "cell_type": "code",
   "execution_count": null,
   "metadata": {},
   "outputs": [],
   "source": []
  },
  {
   "cell_type": "markdown",
   "metadata": {},
   "source": [
    "## Discussion of Results"
   ]
  },
  {
   "cell_type": "markdown",
   "metadata": {},
   "source": [
    "Now that we have clustered the Raw Data based on the trained SOM, we can now look into each group of data and discuss the patterns in each.\n",
    "\n",
    "Graphical rendering of the variables in each cluster helps in examining the trends."
   ]
  },
  {
   "cell_type": "markdown",
   "metadata": {},
   "source": [
    "### Subset the Raw Data according to Cluster"
   ]
  },
  {
   "cell_type": "markdown",
   "metadata": {},
   "source": [
    "Use now the original time-series MAVEN data and add the BMU and Cluster data columns:"
   ]
  },
  {
   "cell_type": "code",
   "execution_count": 74,
   "metadata": {},
   "outputs": [
    {
     "ename": "ValueError",
     "evalue": "Length of values does not match length of index",
     "output_type": "error",
     "traceback": [
      "\u001b[0;31m---------------------------------------------------------------------------\u001b[0m",
      "\u001b[0;31mValueError\u001b[0m                                Traceback (most recent call last)",
      "\u001b[0;32m<ipython-input-74-493918269a73>\u001b[0m in \u001b[0;36m<module>\u001b[0;34m\u001b[0m\n\u001b[1;32m      6\u001b[0m \u001b[0;34m\u001b[0m\u001b[0m\n\u001b[1;32m      7\u001b[0m \u001b[0;31m# add the BMU data column\u001b[0m\u001b[0;34m\u001b[0m\u001b[0;34m\u001b[0m\u001b[0;34m\u001b[0m\u001b[0m\n\u001b[0;32m----> 8\u001b[0;31m \u001b[0mMAVEN_data_timeSeries_SOM\u001b[0m\u001b[0;34m[\u001b[0m\u001b[0;34m'BMU'\u001b[0m\u001b[0;34m]\u001b[0m\u001b[0;34m=\u001b[0m\u001b[0mBMU\u001b[0m\u001b[0;34m\u001b[0m\u001b[0;34m\u001b[0m\u001b[0m\n\u001b[0m\u001b[1;32m      9\u001b[0m \u001b[0;34m\u001b[0m\u001b[0m\n\u001b[1;32m     10\u001b[0m \u001b[0;31m# map the Cluster to each raw data\u001b[0m\u001b[0;34m\u001b[0m\u001b[0;34m\u001b[0m\u001b[0;34m\u001b[0m\u001b[0m\n",
      "\u001b[0;32m/opt/anaconda3/lib/python3.7/site-packages/pandas/core/frame.py\u001b[0m in \u001b[0;36m__setitem__\u001b[0;34m(self, key, value)\u001b[0m\n\u001b[1;32m   2936\u001b[0m         \u001b[0;32melse\u001b[0m\u001b[0;34m:\u001b[0m\u001b[0;34m\u001b[0m\u001b[0;34m\u001b[0m\u001b[0m\n\u001b[1;32m   2937\u001b[0m             \u001b[0;31m# set column\u001b[0m\u001b[0;34m\u001b[0m\u001b[0;34m\u001b[0m\u001b[0;34m\u001b[0m\u001b[0m\n\u001b[0;32m-> 2938\u001b[0;31m             \u001b[0mself\u001b[0m\u001b[0;34m.\u001b[0m\u001b[0m_set_item\u001b[0m\u001b[0;34m(\u001b[0m\u001b[0mkey\u001b[0m\u001b[0;34m,\u001b[0m \u001b[0mvalue\u001b[0m\u001b[0;34m)\u001b[0m\u001b[0;34m\u001b[0m\u001b[0;34m\u001b[0m\u001b[0m\n\u001b[0m\u001b[1;32m   2939\u001b[0m \u001b[0;34m\u001b[0m\u001b[0m\n\u001b[1;32m   2940\u001b[0m     \u001b[0;32mdef\u001b[0m \u001b[0m_setitem_slice\u001b[0m\u001b[0;34m(\u001b[0m\u001b[0mself\u001b[0m\u001b[0;34m,\u001b[0m \u001b[0mkey\u001b[0m\u001b[0;34m,\u001b[0m \u001b[0mvalue\u001b[0m\u001b[0;34m)\u001b[0m\u001b[0;34m:\u001b[0m\u001b[0;34m\u001b[0m\u001b[0;34m\u001b[0m\u001b[0m\n",
      "\u001b[0;32m/opt/anaconda3/lib/python3.7/site-packages/pandas/core/frame.py\u001b[0m in \u001b[0;36m_set_item\u001b[0;34m(self, key, value)\u001b[0m\n\u001b[1;32m   2998\u001b[0m \u001b[0;34m\u001b[0m\u001b[0m\n\u001b[1;32m   2999\u001b[0m         \u001b[0mself\u001b[0m\u001b[0;34m.\u001b[0m\u001b[0m_ensure_valid_index\u001b[0m\u001b[0;34m(\u001b[0m\u001b[0mvalue\u001b[0m\u001b[0;34m)\u001b[0m\u001b[0;34m\u001b[0m\u001b[0;34m\u001b[0m\u001b[0m\n\u001b[0;32m-> 3000\u001b[0;31m         \u001b[0mvalue\u001b[0m \u001b[0;34m=\u001b[0m \u001b[0mself\u001b[0m\u001b[0;34m.\u001b[0m\u001b[0m_sanitize_column\u001b[0m\u001b[0;34m(\u001b[0m\u001b[0mkey\u001b[0m\u001b[0;34m,\u001b[0m \u001b[0mvalue\u001b[0m\u001b[0;34m)\u001b[0m\u001b[0;34m\u001b[0m\u001b[0;34m\u001b[0m\u001b[0m\n\u001b[0m\u001b[1;32m   3001\u001b[0m         \u001b[0mNDFrame\u001b[0m\u001b[0;34m.\u001b[0m\u001b[0m_set_item\u001b[0m\u001b[0;34m(\u001b[0m\u001b[0mself\u001b[0m\u001b[0;34m,\u001b[0m \u001b[0mkey\u001b[0m\u001b[0;34m,\u001b[0m \u001b[0mvalue\u001b[0m\u001b[0;34m)\u001b[0m\u001b[0;34m\u001b[0m\u001b[0;34m\u001b[0m\u001b[0m\n\u001b[1;32m   3002\u001b[0m \u001b[0;34m\u001b[0m\u001b[0m\n",
      "\u001b[0;32m/opt/anaconda3/lib/python3.7/site-packages/pandas/core/frame.py\u001b[0m in \u001b[0;36m_sanitize_column\u001b[0;34m(self, key, value, broadcast)\u001b[0m\n\u001b[1;32m   3634\u001b[0m \u001b[0;34m\u001b[0m\u001b[0m\n\u001b[1;32m   3635\u001b[0m             \u001b[0;31m# turn me into an ndarray\u001b[0m\u001b[0;34m\u001b[0m\u001b[0;34m\u001b[0m\u001b[0;34m\u001b[0m\u001b[0m\n\u001b[0;32m-> 3636\u001b[0;31m             \u001b[0mvalue\u001b[0m \u001b[0;34m=\u001b[0m \u001b[0msanitize_index\u001b[0m\u001b[0;34m(\u001b[0m\u001b[0mvalue\u001b[0m\u001b[0;34m,\u001b[0m \u001b[0mself\u001b[0m\u001b[0;34m.\u001b[0m\u001b[0mindex\u001b[0m\u001b[0;34m,\u001b[0m \u001b[0mcopy\u001b[0m\u001b[0;34m=\u001b[0m\u001b[0;32mFalse\u001b[0m\u001b[0;34m)\u001b[0m\u001b[0;34m\u001b[0m\u001b[0;34m\u001b[0m\u001b[0m\n\u001b[0m\u001b[1;32m   3637\u001b[0m             \u001b[0;32mif\u001b[0m \u001b[0;32mnot\u001b[0m \u001b[0misinstance\u001b[0m\u001b[0;34m(\u001b[0m\u001b[0mvalue\u001b[0m\u001b[0;34m,\u001b[0m \u001b[0;34m(\u001b[0m\u001b[0mnp\u001b[0m\u001b[0;34m.\u001b[0m\u001b[0mndarray\u001b[0m\u001b[0;34m,\u001b[0m \u001b[0mIndex\u001b[0m\u001b[0;34m)\u001b[0m\u001b[0;34m)\u001b[0m\u001b[0;34m:\u001b[0m\u001b[0;34m\u001b[0m\u001b[0;34m\u001b[0m\u001b[0m\n\u001b[1;32m   3638\u001b[0m                 \u001b[0;32mif\u001b[0m \u001b[0misinstance\u001b[0m\u001b[0;34m(\u001b[0m\u001b[0mvalue\u001b[0m\u001b[0;34m,\u001b[0m \u001b[0mlist\u001b[0m\u001b[0;34m)\u001b[0m \u001b[0;32mand\u001b[0m \u001b[0mlen\u001b[0m\u001b[0;34m(\u001b[0m\u001b[0mvalue\u001b[0m\u001b[0;34m)\u001b[0m \u001b[0;34m>\u001b[0m \u001b[0;36m0\u001b[0m\u001b[0;34m:\u001b[0m\u001b[0;34m\u001b[0m\u001b[0;34m\u001b[0m\u001b[0m\n",
      "\u001b[0;32m/opt/anaconda3/lib/python3.7/site-packages/pandas/core/internals/construction.py\u001b[0m in \u001b[0;36msanitize_index\u001b[0;34m(data, index, copy)\u001b[0m\n\u001b[1;32m    609\u001b[0m \u001b[0;34m\u001b[0m\u001b[0m\n\u001b[1;32m    610\u001b[0m     \u001b[0;32mif\u001b[0m \u001b[0mlen\u001b[0m\u001b[0;34m(\u001b[0m\u001b[0mdata\u001b[0m\u001b[0;34m)\u001b[0m \u001b[0;34m!=\u001b[0m \u001b[0mlen\u001b[0m\u001b[0;34m(\u001b[0m\u001b[0mindex\u001b[0m\u001b[0;34m)\u001b[0m\u001b[0;34m:\u001b[0m\u001b[0;34m\u001b[0m\u001b[0;34m\u001b[0m\u001b[0m\n\u001b[0;32m--> 611\u001b[0;31m         \u001b[0;32mraise\u001b[0m \u001b[0mValueError\u001b[0m\u001b[0;34m(\u001b[0m\u001b[0;34m\"Length of values does not match length of index\"\u001b[0m\u001b[0;34m)\u001b[0m\u001b[0;34m\u001b[0m\u001b[0;34m\u001b[0m\u001b[0m\n\u001b[0m\u001b[1;32m    612\u001b[0m \u001b[0;34m\u001b[0m\u001b[0m\n\u001b[1;32m    613\u001b[0m     \u001b[0;32mif\u001b[0m \u001b[0misinstance\u001b[0m\u001b[0;34m(\u001b[0m\u001b[0mdata\u001b[0m\u001b[0;34m,\u001b[0m \u001b[0mABCIndexClass\u001b[0m\u001b[0;34m)\u001b[0m \u001b[0;32mand\u001b[0m \u001b[0;32mnot\u001b[0m \u001b[0mcopy\u001b[0m\u001b[0;34m:\u001b[0m\u001b[0;34m\u001b[0m\u001b[0;34m\u001b[0m\u001b[0m\n",
      "\u001b[0;31mValueError\u001b[0m: Length of values does not match length of index"
     ]
    }
   ],
   "source": [
    "# create a new DataFrame from the MAVEN-timeSeries\n",
    "# this dedicated daraframe has the time-date, BMU and Cluster\n",
    "MAVEN_data_timeSeries_SOM=MAVEN_data_timeSeries\n",
    "MAVEN_data_timeSeries_SOM['BMU']=\"\"\n",
    "MAVEN_data_timeSeries_SOM['Cluster']=\"\"\n",
    "\n",
    "# add the BMU data column\n",
    "MAVEN_data_timeSeries_SOM['BMU']=BMU\n",
    "\n",
    "# map the Cluster to each raw data\n",
    "MAVEN_data_timeSeries_SOM['Cluster']=MAVEN_data_timeSeries_SOM['BMU'].map(bmu_clust)"
   ]
  },
  {
   "cell_type": "markdown",
   "metadata": {},
   "source": [
    "Create a dataframe for each Cluster:"
   ]
  },
  {
   "cell_type": "code",
   "execution_count": null,
   "metadata": {
    "scrolled": true
   },
   "outputs": [],
   "source": [
    "Cluster_0 = MAVEN_data_timeSeries_SOM[MAVEN_data_timeSeries_SOM[\"Cluster\"].isin([0])]\n",
    "Cluster_1 = MAVEN_data_timeSeries_SOM[MAVEN_data_timeSeries_SOM[\"Cluster\"].isin([1])]\n",
    "Cluster_2 = MAVEN_data_timeSeries_SOM[MAVEN_data_timeSeries_SOM[\"Cluster\"].isin([2])]\n",
    "Cluster_3 = MAVEN_data_timeSeries_SOM[MAVEN_data_timeSeries_SOM[\"Cluster\"].isin([3])]\n",
    "\n",
    "# check the length(no. of observations) of each cluster:\n",
    "print(\"Cluster 0 No. Obs.: \" + str(len(Cluster_0)))\n",
    "print(\"Cluster 1 No. Obs.: \" + str(len(Cluster_1)))\n",
    "print(\"Cluster 2 No. Obs.: \" + str(len(Cluster_2)))\n",
    "print(\"Cluster 3 No. Obs.: \" + str(len(Cluster_3)))"
   ]
  },
  {
   "cell_type": "code",
   "execution_count": null,
   "metadata": {},
   "outputs": [],
   "source": [
    "# make sure subsetting is corretcly done; check the 'Cluster' column data/last column\n",
    "Cluster_2"
   ]
  },
  {
   "cell_type": "markdown",
   "metadata": {},
   "source": [
    "Now that the observations are grouped based on SOM clusters:\n",
    "- use descriptive stats tools such as histogram, x-y scatter, etc.\n",
    "- use PyDivide visual analysis tools together with the 'date-time' information from the SOM clusters to find explanations for grouping of observations."
   ]
  },
  {
   "cell_type": "markdown",
   "metadata": {},
   "source": [
    "### Using the variable \"Electron eflux  Parallel (100-500 ev) Quality\":\n",
    "\n",
    "- the U-matix shows that the region of distinct values are close to the Cluster 3 region\n",
    "- based on the U-matrix and the cluster plots of the SOM, the variable that is intense at Cluster 3 is variable \"Electron eflux  Parallel (100-500 ev) Quality\"\n",
    "- So,let us examine the variabale \"Electron eflux  Parallel (100-500 ev) Quality\"\n",
    "- The histogram plots are not easy to distingush from this graph. Try separating the plots at the same x-axis range."
   ]
  },
  {
   "cell_type": "code",
   "execution_count": null,
   "metadata": {
    "scrolled": true
   },
   "outputs": [],
   "source": [
    "plt.figure(figsize=(11,6))\n",
    "#plt.hist(Cluster_0['SOLAR_WIND_ELECTRON_DENSITY'], bins=100, alpha=0.5, label=\"Clust 0\")\n",
    "#plt.hist(Cluster_1['SOLAR_WIND_ELECTRON_DENSITY'], bins=100, alpha=0.5, label=\"Clust 1\")\n",
    "#plt.hist(Cluster_2['SOLAR_WIND_ELECTRON_DENSITY'], bins=100, alpha=0.5, label=\"Clust 2\")\n",
    "#plt.hist(Cluster_3['SOLAR_WIND_ELECTRON_DENSITY'], bins=100, alpha=0.5, label=\"Clust 3\")\n",
    "\n",
    "plt.hist(Cluster_0['Electron eflux  Parallel (100-500 ev) Quality'], bins=100, alpha=0.5, label=\"Clust 0\")\n",
    "plt.hist(Cluster_1['Electron eflux  Parallel (100-500 ev) Quality'], bins=100, alpha=0.5, label=\"Clust 1\")\n",
    "plt.hist(Cluster_2['Electron eflux  Parallel (100-500 ev) Quality'], bins=100, alpha=0.5, label=\"Clust 2\")\n",
    "plt.hist(Cluster_3['Electron eflux  Parallel (100-500 ev) Quality'], bins=100, alpha=0.5, label=\"Clust 3\")\n",
    "\n",
    "plt.xlabel(\"Electron eflux  Parallel (100-500 ev) Quality\", size=14)\n",
    "plt.ylabel(\"Count\", size=14)\n",
    "plt.title(\"Multiple Histograms with Matplotlib\")\n",
    "plt.legend(loc='upper right')\n",
    "plt.savefig(\"overlapping_histograms_with_matplotlib_Python.png\")\n"
   ]
  },
  {
   "cell_type": "markdown",
   "metadata": {},
   "source": [
    "- Separating the histograms:"
   ]
  },
  {
   "cell_type": "code",
   "execution_count": null,
   "metadata": {},
   "outputs": [],
   "source": [
    "fig1, axs = plt.subplots(4, sharex=True, sharey=False, figsize=(6,8))\n",
    "fig1.suptitle('MAVEN Electron eflux  Parallel (100-500 ev) Quality')\n",
    "axs[0].hist(Cluster_0['Electron eflux  Parallel (100-500 ev) Quality'], bins=100, alpha=0.5, color='purple', label=\"Clust 0\")\n",
    "axs[0].set_title('Cluster 0')\n",
    "axs[1].hist(Cluster_1['Electron eflux  Parallel (100-500 ev) Quality'], bins=100, alpha=0.5, color='purple', label=\"Clust 1\")\n",
    "axs[1].set_title('Cluster 1')\n",
    "axs[2].hist(Cluster_2['Electron eflux  Parallel (100-500 ev) Quality'], bins=100, alpha=0.5, color='purple', label=\"Clust 2\")\n",
    "axs[2].set_title('Cluster 2')\n",
    "axs[3].hist(Cluster_3['Electron eflux  Parallel (100-500 ev) Quality'], bins=100, alpha=0.5, color='purple', label=\"Clust 3\")\n",
    "axs[3].set_title('Cluster 3')\n",
    "\n",
    "plt.xlabel(\"Electron eflux  Parallel (100-500 ev) Quality\", size=14)\n",
    "\n",
    "fig1.savefig(\"figrue_separated_plots - Electron eflux  Parallel (100-500 ev) Quality.png\")"
   ]
  },
  {
   "cell_type": "markdown",
   "metadata": {},
   "source": [
    "Based on these histograms, Cluster 3 observations have relatively higher levels of \"Electron eflux  Parallel (100-500 ev) Quality\".\n",
    "\n",
    "This is an interesting pattern. Let's examine further Cluster 2. How about checking the other 16 variables in the data?"
   ]
  },
  {
   "cell_type": "markdown",
   "metadata": {},
   "source": [
    "### Using the variable \"ELECTRON_PARALLEL_FLUX_MID\": "
   ]
  },
  {
   "cell_type": "code",
   "execution_count": null,
   "metadata": {},
   "outputs": [],
   "source": [
    "fig2, axs2 = plt.subplots(4, sharex=True, sharey=False, figsize=(6,8))\n",
    "fig2.suptitle('MAVEN ELECTRON_PARALLEL_FLUX_MID')\n",
    "axs2[0].hist(Cluster_0['ELECTRON_PARALLEL_FLUX_MID'], bins=100, alpha=0.5, color='purple', label=\"Clust 0\")\n",
    "axs2[0].set_title('Cluster 0')\n",
    "axs2[1].hist(Cluster_1['ELECTRON_PARALLEL_FLUX_MID'], bins=100, alpha=0.5, color='purple', label=\"Clust 1\")\n",
    "axs2[1].set_title('Cluster 1')\n",
    "axs2[2].hist(Cluster_2['ELECTRON_PARALLEL_FLUX_MID'], bins=100, alpha=0.5, color='purple', label=\"Clust 2\")\n",
    "axs2[2].set_title('Cluster 2')\n",
    "axs2[3].hist(Cluster_3['ELECTRON_PARALLEL_FLUX_MID'], bins=100, alpha=0.5, color='purple', label=\"Clust 3\")\n",
    "axs2[3].set_title('Cluster 3')\n",
    "\n",
    "plt.xlabel(\"ELECTRON_PARALLEL_FLUX_MID\", size=14)\n",
    "\n",
    "fig2.savefig(\"figrue_separated_plots - MAVEN ELECTRON_PARALLEL_FLUX_MID.png\")"
   ]
  },
  {
   "cell_type": "markdown",
   "metadata": {},
   "source": [
    "### Using the variable \"Electron eflux  Anti-par (500-1000 ev) Quality\":"
   ]
  },
  {
   "cell_type": "code",
   "execution_count": null,
   "metadata": {},
   "outputs": [],
   "source": [
    "fig3, axs3 = plt.subplots(4, sharex=True, sharey=False, figsize=(6,8))\n",
    "fig3.suptitle('MAVEN Electron eflux  Anti-par (500-1000 ev) Quality')\n",
    "axs3[0].hist(Cluster_0['Electron eflux  Anti-par (500-1000 ev) Quality'], bins=100, alpha=0.5, color='purple', label=\"Clust 0\")\n",
    "axs3[0].set_title('Cluster 0')\n",
    "axs3[1].hist(Cluster_1['Electron eflux  Anti-par (500-1000 ev) Quality'], bins=100, alpha=0.5, color='purple', label=\"Clust 1\")\n",
    "axs3[1].set_title('Cluster 1')\n",
    "axs3[2].hist(Cluster_2['Electron eflux  Anti-par (500-1000 ev) Quality'], bins=100, alpha=0.5, color='purple', label=\"Clust 2\")\n",
    "axs3[2].set_title('Cluster 2')\n",
    "axs3[3].hist(Cluster_3['Electron eflux  Anti-par (500-1000 ev) Quality'], bins=100, alpha=0.5, color='purple', label=\"Clust 3\")\n",
    "axs3[3].set_title('Cluster 3')\n",
    "\n",
    "plt.xlabel(\"Electron eflux  Anti-par (500-1000 ev) Quality\", size=14)\n",
    "\n",
    "fig3.savefig(\"figrue_separated_plots - Electron eflux  Anti-par (500-1000 ev) Quality.png\")"
   ]
  },
  {
   "cell_type": "markdown",
   "metadata": {},
   "source": [
    "### Using the variable \"SOLAR_WIND_ELECTRON_DENSITY\":"
   ]
  },
  {
   "cell_type": "code",
   "execution_count": null,
   "metadata": {
    "scrolled": true
   },
   "outputs": [],
   "source": [
    "fig4, axs4 = plt.subplots(4, sharex=True, sharey=False, figsize=(6,8))\n",
    "fig4.suptitle('MAVEN SOLAR_WIND_ELECTRON_DENSITY')\n",
    "axs4[0].hist(Cluster_0['SOLAR_WIND_ELECTRON_DENSITY'], bins=100, alpha=0.5, color='purple', label=\"Clust 0\")\n",
    "axs4[0].set_title('Cluster 0')\n",
    "axs4[1].hist(Cluster_1['SOLAR_WIND_ELECTRON_DENSITY'], bins=100, alpha=0.5, color='purple', label=\"Clust 1\")\n",
    "axs4[1].set_title('Cluster 1')\n",
    "axs4[2].hist(Cluster_2['SOLAR_WIND_ELECTRON_DENSITY'], bins=100, alpha=0.5, color='purple', label=\"Clust 2\")\n",
    "axs4[2].set_title('Cluster 2')\n",
    "axs4[3].hist(Cluster_3['SOLAR_WIND_ELECTRON_DENSITY'], bins=100, alpha=0.5, color='purple', label=\"Clust 3\")\n",
    "axs4[3].set_title('Cluster 3')\n",
    "\n",
    "plt.xlabel(\"SOLAR_WIND_ELECTRON_DENSITY\", size=14)\n",
    "\n",
    "fig4.savefig(\"figrue_separated_plots - SOLAR_WIND_ELECTRON_DENSITY.png\")"
   ]
  },
  {
   "cell_type": "markdown",
   "metadata": {},
   "source": [
    "### How about incorporating the observations from other isntruments?"
   ]
  },
  {
   "cell_type": "markdown",
   "metadata": {},
   "source": [
    "We use the date-time data as the common index for the SWEA clustered data with the other instruments such as:\n",
    "\n",
    "- SWIA\n",
    "- NGIMS\n",
    "- SPACECRAFT\n",
    "- etc."
   ]
  },
  {
   "cell_type": "markdown",
   "metadata": {},
   "source": [
    "Taking the SWIA data:"
   ]
  },
  {
   "cell_type": "code",
   "execution_count": null,
   "metadata": {
    "scrolled": true
   },
   "outputs": [],
   "source": [
    "insitu_SWIA = insitu.get(\"SWIA\")\n",
    "insitu_SWIA.head()"
   ]
  },
  {
   "cell_type": "markdown",
   "metadata": {},
   "source": [
    "Check for the NaN or Null entries:"
   ]
  },
  {
   "cell_type": "code",
   "execution_count": null,
   "metadata": {
    "scrolled": true
   },
   "outputs": [],
   "source": [
    "insitu_SWIA.isnull().sum()"
   ]
  },
  {
   "cell_type": "markdown",
   "metadata": {},
   "source": [
    "Removing the Nan or Null entries and make sure there is still significanly huge dataset:"
   ]
  },
  {
   "cell_type": "code",
   "execution_count": null,
   "metadata": {},
   "outputs": [],
   "source": [
    "insitu_SWIA_clean = insitu_SWIA.dropna()\n",
    "insitu_SWIA_clean.count()"
   ]
  },
  {
   "cell_type": "code",
   "execution_count": null,
   "metadata": {
    "scrolled": false
   },
   "outputs": [],
   "source": [
    "\n",
    "insitu_SWIA_clean = pd.DataFrame(insitu_SWIA_clean)\n",
    "insitu_SWIA_clean"
   ]
  },
  {
   "cell_type": "markdown",
   "metadata": {},
   "source": [
    "Save the cleaned dataframe of SWIA:"
   ]
  },
  {
   "cell_type": "code",
   "execution_count": null,
   "metadata": {},
   "outputs": [],
   "source": [
    "insitu_SWIA_clean.to_excel('Data_SWIA.xlsx')"
   ]
  },
  {
   "cell_type": "markdown",
   "metadata": {},
   "source": [
    "Retrieve the saved spreadsheet file for the SWIA dataset:"
   ]
  },
  {
   "cell_type": "code",
   "execution_count": null,
   "metadata": {},
   "outputs": [],
   "source": [
    "MAVEN_data_SWIA_timeSeries = pd.read_excel('/Users/dhan-lordfortela/Documents/EIL/Proposals/LURA 2020/LURA 2020 - Grant Awarded/LURA_2020 - Working/FINAL_works/on_MAVEN_data/Data_SWIA.xlsx')"
   ]
  },
  {
   "cell_type": "code",
   "execution_count": null,
   "metadata": {
    "scrolled": false
   },
   "outputs": [],
   "source": [
    "MAVEN_data_SWIA_timeSeries.head()"
   ]
  },
  {
   "cell_type": "code",
   "execution_count": null,
   "metadata": {},
   "outputs": [],
   "source": [
    "MAVEN_data_SWIA_timeSeries.count()"
   ]
  },
  {
   "cell_type": "markdown",
   "metadata": {},
   "source": [
    "When using the SWIA from the saved spreadsheet, the date-time column is the first column and hence part of the data entries. So, use this dataframe so the date-time data column may be easily accessed to work with the SWEA dataframe:"
   ]
  },
  {
   "cell_type": "code",
   "execution_count": null,
   "metadata": {},
   "outputs": [],
   "source": [
    "MAVEN_data_SWIA_timeSeries.iloc[:,0]"
   ]
  },
  {
   "cell_type": "code",
   "execution_count": null,
   "metadata": {
    "scrolled": true
   },
   "outputs": [],
   "source": [
    "insitu_SWIA_clean.iloc[:,0]"
   ]
  },
  {
   "cell_type": "markdown",
   "metadata": {},
   "source": [
    "....work now on merging this SWIA and the clustered SWEA...."
   ]
  },
  {
   "cell_type": "code",
   "execution_count": null,
   "metadata": {},
   "outputs": [],
   "source": [
    "MAVEN_data_timeSeries_SOM.columns"
   ]
  },
  {
   "cell_type": "code",
   "execution_count": null,
   "metadata": {},
   "outputs": [],
   "source": [
    "MAVEN_data_SWEA_timeSeries_SOM=MAVEN_data_timeSeries_SOM.rename(columns={'Unnamed: 0':'Time1'})\n",
    "\n",
    "MAVEN_data_SWEA_timeSeries_SOM.head()\n",
    "#MAVEN_data_timeSeries_SOM[]"
   ]
  },
  {
   "cell_type": "code",
   "execution_count": null,
   "metadata": {},
   "outputs": [],
   "source": [
    "MAVEN_data_SWIA_timeSeries_SOM=MAVEN_data_SWIA_timeSeries.rename(columns={'Unnamed: 0':'Time2'})\n",
    "MAVEN_data_SWIA_timeSeries_SOM.head()"
   ]
  },
  {
   "cell_type": "code",
   "execution_count": null,
   "metadata": {},
   "outputs": [],
   "source": [
    "MAVEN_data_SWEA_SWIA_merged_timeSeries_SOM=MAVEN_data_SWEA_timeSeries_SOM.merge(MAVEN_data_SWIA_timeSeries_SOM, left_on='Time1', right_on='Time2')\n",
    "MAVEN_data_SWEA_SWIA_merged_timeSeries_SOM.head()"
   ]
  },
  {
   "cell_type": "code",
   "execution_count": null,
   "metadata": {},
   "outputs": [],
   "source": [
    "MAVEN_data_SWEA_SWIA_merged_timeSeries_SOM.count()"
   ]
  },
  {
   "cell_type": "code",
   "execution_count": null,
   "metadata": {},
   "outputs": [],
   "source": [
    "MAVEN_data_SWEA_SWIA_merged_timeSeries_SOM.to_excel('Data_SWEA_SWIA_mergedTime.xlsx')"
   ]
  },
  {
   "cell_type": "markdown",
   "metadata": {},
   "source": [
    "Subsetting the SWEA-SWIA dataset into cluster based on SWEA:"
   ]
  },
  {
   "cell_type": "code",
   "execution_count": null,
   "metadata": {
    "scrolled": true
   },
   "outputs": [],
   "source": [
    "Merged_Cluster_0 = MAVEN_data_SWEA_SWIA_merged_timeSeries_SOM[MAVEN_data_SWEA_SWIA_merged_timeSeries_SOM[\"Cluster\"].isin([0])]\n",
    "Merged_Cluster_1 = MAVEN_data_SWEA_SWIA_merged_timeSeries_SOM[MAVEN_data_SWEA_SWIA_merged_timeSeries_SOM[\"Cluster\"].isin([1])]\n",
    "Merged_Cluster_2 = MAVEN_data_SWEA_SWIA_merged_timeSeries_SOM[MAVEN_data_SWEA_SWIA_merged_timeSeries_SOM[\"Cluster\"].isin([2])]\n",
    "Merged_Cluster_3 = MAVEN_data_SWEA_SWIA_merged_timeSeries_SOM[MAVEN_data_SWEA_SWIA_merged_timeSeries_SOM[\"Cluster\"].isin([3])]\n",
    "\n",
    "# check the length(no. of observations) of each cluster:\n",
    "print(\"Cluster 0 No. Obs.: \" + str(len(Merged_Cluster_0)))\n",
    "print(\"Cluster 1 No. Obs.: \" + str(len(Merged_Cluster_1)))\n",
    "print(\"Cluster 2 No. Obs.: \" + str(len(Merged_Cluster_2)))\n",
    "print(\"Cluster 3 No. Obs.: \" + str(len(Merged_Cluster_3)))"
   ]
  },
  {
   "cell_type": "markdown",
   "metadata": {},
   "source": [
    "### Using the SWIA variable \"HPLUS_DENSITY\": "
   ]
  },
  {
   "cell_type": "code",
   "execution_count": null,
   "metadata": {
    "scrolled": true
   },
   "outputs": [],
   "source": [
    "fig11, axs = plt.subplots(4, sharex=True, sharey=False, figsize=(6,8))\n",
    "fig11.suptitle('MAVEN HPLUS_DENSITY')\n",
    "axs[0].hist(Merged_Cluster_0['HPLUS_DENSITY'], bins=100, alpha=0.5, color='purple', label=\"Clust 0\")\n",
    "axs[0].set_title('Cluster 0')\n",
    "axs[1].hist(Merged_Cluster_1['HPLUS_DENSITY'], bins=100, alpha=0.5, color='purple', label=\"Clust 1\")\n",
    "axs[1].set_title('Cluster 1')\n",
    "axs[2].hist(Merged_Cluster_2['HPLUS_DENSITY'], bins=100, alpha=0.5, color='purple', label=\"Clust 2\")\n",
    "axs[2].set_title('Cluster 2')\n",
    "axs[3].hist(Merged_Cluster_3['HPLUS_DENSITY'], bins=100, alpha=0.5, color='purple', label=\"Clust 3\")\n",
    "axs[3].set_title('Cluster 3')\n",
    "\n",
    "plt.xlabel(\"HPLUS_DENSITY\", size=14)\n",
    "\n",
    "fig11.savefig(\"figrue_separated_plots_merged - HPLUS_DENSITY.png\")\n"
   ]
  },
  {
   "cell_type": "code",
   "execution_count": null,
   "metadata": {},
   "outputs": [],
   "source": [
    "\n",
    "fig12, axs = plt.subplots(4, sharex=True, sharey=False, figsize=(6,8))\n",
    "fig12.suptitle('MAVEN HPLUS_TEMPERATURE')\n",
    "axs[0].hist(Merged_Cluster_0['HPLUS_TEMPERATURE'], bins=100, alpha=0.5, color='purple', label=\"Clust 0\")\n",
    "axs[0].set_title('Cluster 0')\n",
    "axs[1].hist(Merged_Cluster_1['HPLUS_TEMPERATURE'], bins=100, alpha=0.5, color='purple', label=\"Clust 1\")\n",
    "axs[1].set_title('Cluster 1')\n",
    "axs[2].hist(Merged_Cluster_2['HPLUS_TEMPERATURE'], bins=100, alpha=0.5, color='purple', label=\"Clust 2\")\n",
    "axs[2].set_title('Cluster 2')\n",
    "axs[3].hist(Merged_Cluster_3['HPLUS_TEMPERATURE'], bins=100, alpha=0.5, color='purple', label=\"Clust 3\")\n",
    "axs[3].set_title('Cluster 3')\n",
    "\n",
    "plt.xlabel(\"HPLUS_TEMPERATURE\", size=14)\n",
    "\n",
    "fig12.savefig(\"figrue_separated_plots_merged - HPLUS_TEMPERATURE.png\")"
   ]
  },
  {
   "cell_type": "markdown",
   "metadata": {},
   "source": [
    "## What if SWIA-data only is trained on SOM?"
   ]
  },
  {
   "cell_type": "code",
   "execution_count": null,
   "metadata": {},
   "outputs": [],
   "source": [
    "MAVEN_data_SWIA_forSOM = MAVEN_data_SWIA_timeSeries.iloc[:,1:]\n",
    "MAVEN_data_SWIA_forSOM.head()"
   ]
  },
  {
   "cell_type": "code",
   "execution_count": null,
   "metadata": {},
   "outputs": [],
   "source": [
    "map_size_SWIA = sompy.SOMFactory().build(MAVEN_data_SWIA_forSOM.values).calculate_map_size('rect')\n",
    "print(\"Optimal Map Size (row, column):\" + str(map_size_SWIA))"
   ]
  },
  {
   "cell_type": "code",
   "execution_count": null,
   "metadata": {
    "scrolled": true
   },
   "outputs": [],
   "source": [
    "%%time\n",
    "# Train the model with different parameters. \n",
    "# The more, the better. \n",
    "\n",
    "som_SWIA = sompy.SOMFactory().build(MAVEN_data_SWIA_forSOM.values, \n",
    "                                   #mapsize=map_size_SWIA,\n",
    "                                    mapsize=[30,50],\n",
    "                                   normalization = 'var', \n",
    "                                   initialization='random', \n",
    "                                   #component_names=component_names, \n",
    "                                   lattice='rect')\n",
    "som_SWIA.train(n_job=1, train_rough_len=5, train_finetune_len=10) # change the number of iteration of rouhg_len and finetune _len"
   ]
  },
  {
   "cell_type": "code",
   "execution_count": null,
   "metadata": {
    "scrolled": false
   },
   "outputs": [],
   "source": [
    "topographic_error = som_SWIA.calculate_topographic_error()\n",
    "quantization_error = som_SWIA.calculate_quantization_error()\n",
    "print (\"Topographic error = %s\\n Quantization error = %s\" % (topographic_error, quantization_error))"
   ]
  },
  {
   "cell_type": "code",
   "execution_count": null,
   "metadata": {
    "scrolled": false
   },
   "outputs": [],
   "source": [
    "from sompy.visualization.mapview import View2D\n",
    "view2D  = View2D(10,10,\"\", text_size=7)\n",
    "view2D.show(som_SWIA, col_sz=4, which_dim=\"all\", cmap='jet', denormalize=True)\n",
    "plt.show()"
   ]
  },
  {
   "cell_type": "code",
   "execution_count": null,
   "metadata": {
    "scrolled": true
   },
   "outputs": [],
   "source": [
    "from sompy.visualization.bmuhits import BmuHitsView\n",
    "#sm.codebook.lattice=\"rect\"\n",
    "vhts  = BmuHitsView(31,59,\"Hits Map\",text_size=7)\n",
    "vhts.show(som_SWIA, anotate=True, onlyzeros=False, labelsize=7, cmap=\"autumn\", logaritmic=False)\n",
    "plt.show()"
   ]
  },
  {
   "cell_type": "code",
   "execution_count": null,
   "metadata": {
    "scrolled": true
   },
   "outputs": [],
   "source": [
    "from sompy.visualization.hitmap import HitMapView\n",
    "som_SWIA.cluster(4)\n",
    "map_labels_SWIA=som_SWIA.cluster(4)\n",
    "\n",
    "hits  = HitMapView(30, 59,\"Clustering\",text_size=10, cmap=plt.cm.jet)\n",
    "a=hits.show(som_SWIA, anotate=True, onlyzeros=False, labelsize=7, cmap=\"Pastel1\")\n",
    "plt.show()"
   ]
  },
  {
   "cell_type": "markdown",
   "metadata": {},
   "source": [
    "The Clusters in this SWIA dataset seems all over the place, which is not the desired pattern in an SOM."
   ]
  },
  {
   "cell_type": "code",
   "execution_count": null,
   "metadata": {
    "scrolled": true
   },
   "outputs": [],
   "source": [
    "u = sompy.umatrix.UMatrixView(30, 59, 'umatrix', show_axis=True, text_size=8, show_text=True)\n",
    "\n",
    "#This is the Umat value\n",
    "UMAT  = u.build_u_matrix(som_SWIA, distance=1, row_normalized=False)\n",
    "\n",
    "#Here you have Umatrix plus its render\n",
    "UMAT = u.show(som_SWIA, distance2=1, row_normalized=False, show_data=True, contooor=True, blob=False)\n"
   ]
  },
  {
   "cell_type": "code",
   "execution_count": null,
   "metadata": {},
   "outputs": [],
   "source": []
  },
  {
   "cell_type": "markdown",
   "metadata": {},
   "source": [
    "## References\n",
    "This notebook has been created using the templates from:\n",
    "\n",
    "https://gist.github.com/sevamoo/035c56e7428318dd3065013625f12a11\n",
    "\n",
    "http://www.vahidmoosavi.com\n",
    "\n",
    "SOM Package: https://github.com/sevamoo/sompy\n",
    "\n",
    "Pandas: https://pandas.pydata.org/"
   ]
  }
 ],
 "metadata": {
  "kernelspec": {
   "display_name": "Python 3",
   "language": "python",
   "name": "python3"
  },
  "language_info": {
   "codemirror_mode": {
    "name": "ipython",
    "version": 3
   },
   "file_extension": ".py",
   "mimetype": "text/x-python",
   "name": "python",
   "nbconvert_exporter": "python",
   "pygments_lexer": "ipython3",
   "version": "3.7.6"
  }
 },
 "nbformat": 4,
 "nbformat_minor": 1
}
